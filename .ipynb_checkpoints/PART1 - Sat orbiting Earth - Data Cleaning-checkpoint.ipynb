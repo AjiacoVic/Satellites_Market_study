{
 "cells": [
  {
   "cell_type": "markdown",
   "metadata": {},
   "source": [
    "# Evolution of satellites orbiting the Earth"
   ]
  },
  {
   "cell_type": "code",
   "execution_count": 1,
   "metadata": {},
   "outputs": [],
   "source": [
    "import pandas as pd\n",
    "import numpy as np\n",
    "import matplotlib.pyplot as plt\n",
    "import seaborn as sns\n",
    "%matplotlib inline"
   ]
  },
  {
   "cell_type": "markdown",
   "metadata": {},
   "source": [
    "## Database\n",
    "\n",
    "In this Database created and gathered by the union of scientists we have the specificatio of about 2800 satellites currently orbiting the earth.\n",
    "\n",
    "After cleanning the data, I would like to take a closer look of the evolution of these satellites per type of satellite and spot, if any, their trend\n",
    "\n",
    "NOTE: I had issues downoading the dataset directly from the website due to encoding.\n",
    "I finally could overcome this issue by ading a 'latin' encoding to it.\n"
   ]
  },
  {
   "cell_type": "code",
   "execution_count": 2,
   "metadata": {},
   "outputs": [
    {
     "name": "stderr",
     "output_type": "stream",
     "text": [
      "/Library/Frameworks/Python.framework/Versions/3.8/lib/python3.8/site-packages/IPython/core/interactiveshell.py:3146: DtypeWarning: Columns (28) have mixed types.Specify dtype option on import or set low_memory=False.\n",
      "  has_raised = await self.run_ast_nodes(code_ast.body, cell_name,\n"
     ]
    },
    {
     "data": {
      "text/html": [
       "<div>\n",
       "<style scoped>\n",
       "    .dataframe tbody tr th:only-of-type {\n",
       "        vertical-align: middle;\n",
       "    }\n",
       "\n",
       "    .dataframe tbody tr th {\n",
       "        vertical-align: top;\n",
       "    }\n",
       "\n",
       "    .dataframe thead th {\n",
       "        text-align: right;\n",
       "    }\n",
       "</style>\n",
       "<table border=\"1\" class=\"dataframe\">\n",
       "  <thead>\n",
       "    <tr style=\"text-align: right;\">\n",
       "      <th></th>\n",
       "      <th>Name of Satellite, Alternate Names</th>\n",
       "      <th>Current Official Name of Satellite</th>\n",
       "      <th>Country/Org of UN Registry</th>\n",
       "      <th>Country of Operator/Owner</th>\n",
       "      <th>Operator/Owner</th>\n",
       "      <th>Users</th>\n",
       "      <th>Purpose</th>\n",
       "      <th>Detailed Purpose</th>\n",
       "      <th>Class of Orbit</th>\n",
       "      <th>Type of Orbit</th>\n",
       "      <th>...</th>\n",
       "      <th>Unnamed: 246</th>\n",
       "      <th>Unnamed: 247</th>\n",
       "      <th>Unnamed: 248</th>\n",
       "      <th>Unnamed: 249</th>\n",
       "      <th>Unnamed: 250</th>\n",
       "      <th>Unnamed: 251</th>\n",
       "      <th>Unnamed: 252</th>\n",
       "      <th>Unnamed: 253</th>\n",
       "      <th>Unnamed: 254</th>\n",
       "      <th>Unnamed: 255</th>\n",
       "    </tr>\n",
       "  </thead>\n",
       "  <tbody>\n",
       "    <tr>\n",
       "      <th>0</th>\n",
       "      <td>1HOPSAT-TD (1st-generation High Optical Perfor...</td>\n",
       "      <td>1HOPSAT</td>\n",
       "      <td>NR (3/20)</td>\n",
       "      <td>USA</td>\n",
       "      <td>Hera Systems</td>\n",
       "      <td>Commercial</td>\n",
       "      <td>Earth Observation</td>\n",
       "      <td>Technology Development</td>\n",
       "      <td>LEO</td>\n",
       "      <td>Non-Polar Inclined</td>\n",
       "      <td>...</td>\n",
       "      <td>NaN</td>\n",
       "      <td>NaN</td>\n",
       "      <td>NaN</td>\n",
       "      <td>NaN</td>\n",
       "      <td>NaN</td>\n",
       "      <td>NaN</td>\n",
       "      <td>NaN</td>\n",
       "      <td>NaN</td>\n",
       "      <td>NaN</td>\n",
       "      <td>NaN</td>\n",
       "    </tr>\n",
       "    <tr>\n",
       "      <th>1</th>\n",
       "      <td>3Cat-1</td>\n",
       "      <td>3Cat-1</td>\n",
       "      <td>NR</td>\n",
       "      <td>Spain</td>\n",
       "      <td>Universitat Politècnica de Catalunya</td>\n",
       "      <td>Civil</td>\n",
       "      <td>Technology Development</td>\n",
       "      <td>NaN</td>\n",
       "      <td>LEO</td>\n",
       "      <td>NaN</td>\n",
       "      <td>...</td>\n",
       "      <td>NaN</td>\n",
       "      <td>NaN</td>\n",
       "      <td>NaN</td>\n",
       "      <td>NaN</td>\n",
       "      <td>NaN</td>\n",
       "      <td>NaN</td>\n",
       "      <td>NaN</td>\n",
       "      <td>NaN</td>\n",
       "      <td>NaN</td>\n",
       "      <td>NaN</td>\n",
       "    </tr>\n",
       "    <tr>\n",
       "      <th>2</th>\n",
       "      <td>Aalto-1</td>\n",
       "      <td>Aalto-1</td>\n",
       "      <td>Finland</td>\n",
       "      <td>Finland</td>\n",
       "      <td>Aalto University</td>\n",
       "      <td>Civil</td>\n",
       "      <td>Technology Development</td>\n",
       "      <td>NaN</td>\n",
       "      <td>LEO</td>\n",
       "      <td>NaN</td>\n",
       "      <td>...</td>\n",
       "      <td>NaN</td>\n",
       "      <td>NaN</td>\n",
       "      <td>NaN</td>\n",
       "      <td>NaN</td>\n",
       "      <td>NaN</td>\n",
       "      <td>NaN</td>\n",
       "      <td>NaN</td>\n",
       "      <td>NaN</td>\n",
       "      <td>NaN</td>\n",
       "      <td>NaN</td>\n",
       "    </tr>\n",
       "    <tr>\n",
       "      <th>3</th>\n",
       "      <td>AAUSat-4</td>\n",
       "      <td>AAUSat-4</td>\n",
       "      <td>Denmark</td>\n",
       "      <td>Denmark</td>\n",
       "      <td>University of Aalborg</td>\n",
       "      <td>Civil</td>\n",
       "      <td>Earth Observation</td>\n",
       "      <td>Automatic Identification System (AIS)</td>\n",
       "      <td>LEO</td>\n",
       "      <td>Sun-Synchronous</td>\n",
       "      <td>...</td>\n",
       "      <td>NaN</td>\n",
       "      <td>NaN</td>\n",
       "      <td>NaN</td>\n",
       "      <td>NaN</td>\n",
       "      <td>NaN</td>\n",
       "      <td>NaN</td>\n",
       "      <td>NaN</td>\n",
       "      <td>NaN</td>\n",
       "      <td>NaN</td>\n",
       "      <td>NaN</td>\n",
       "    </tr>\n",
       "    <tr>\n",
       "      <th>4</th>\n",
       "      <td>ABS-2 (Koreasat-8, ST-3)</td>\n",
       "      <td>ABS-2</td>\n",
       "      <td>NR</td>\n",
       "      <td>Multinational</td>\n",
       "      <td>Asia Broadcast Satellite Ltd.</td>\n",
       "      <td>Commercial</td>\n",
       "      <td>Communications</td>\n",
       "      <td>NaN</td>\n",
       "      <td>GEO</td>\n",
       "      <td>NaN</td>\n",
       "      <td>...</td>\n",
       "      <td>NaN</td>\n",
       "      <td>NaN</td>\n",
       "      <td>NaN</td>\n",
       "      <td>NaN</td>\n",
       "      <td>NaN</td>\n",
       "      <td>NaN</td>\n",
       "      <td>NaN</td>\n",
       "      <td>NaN</td>\n",
       "      <td>NaN</td>\n",
       "      <td>NaN</td>\n",
       "    </tr>\n",
       "  </tbody>\n",
       "</table>\n",
       "<p>5 rows × 256 columns</p>\n",
       "</div>"
      ],
      "text/plain": [
       "                  Name of Satellite, Alternate Names  \\\n",
       "0  1HOPSAT-TD (1st-generation High Optical Perfor...   \n",
       "1                                             3Cat-1   \n",
       "2                                           Aalto-1    \n",
       "3                                           AAUSat-4   \n",
       "4                           ABS-2 (Koreasat-8, ST-3)   \n",
       "\n",
       "  Current Official Name of Satellite Country/Org of UN Registry  \\\n",
       "0                            1HOPSAT                  NR (3/20)   \n",
       "1                             3Cat-1                         NR   \n",
       "2                            Aalto-1                    Finland   \n",
       "3                           AAUSat-4                    Denmark   \n",
       "4                              ABS-2                         NR   \n",
       "\n",
       "  Country of Operator/Owner                        Operator/Owner       Users  \\\n",
       "0                       USA                          Hera Systems  Commercial   \n",
       "1                     Spain  Universitat Politècnica de Catalunya       Civil   \n",
       "2                   Finland                      Aalto University       Civil   \n",
       "3                   Denmark                 University of Aalborg       Civil   \n",
       "4             Multinational         Asia Broadcast Satellite Ltd.  Commercial   \n",
       "\n",
       "                  Purpose                       Detailed Purpose  \\\n",
       "0       Earth Observation                 Technology Development   \n",
       "1  Technology Development                                    NaN   \n",
       "2  Technology Development                                    NaN   \n",
       "3       Earth Observation  Automatic Identification System (AIS)   \n",
       "4          Communications                                    NaN   \n",
       "\n",
       "  Class of Orbit       Type of Orbit  ...  Unnamed: 246 Unnamed: 247  \\\n",
       "0            LEO  Non-Polar Inclined  ...           NaN          NaN   \n",
       "1            LEO                 NaN  ...           NaN          NaN   \n",
       "2            LEO                 NaN  ...           NaN          NaN   \n",
       "3            LEO     Sun-Synchronous  ...           NaN          NaN   \n",
       "4            GEO                 NaN  ...           NaN          NaN   \n",
       "\n",
       "  Unnamed: 248  Unnamed: 249  Unnamed: 250 Unnamed: 251 Unnamed: 252  \\\n",
       "0          NaN           NaN           NaN          NaN          NaN   \n",
       "1          NaN           NaN           NaN          NaN          NaN   \n",
       "2          NaN           NaN           NaN          NaN          NaN   \n",
       "3          NaN           NaN           NaN          NaN          NaN   \n",
       "4          NaN           NaN           NaN          NaN          NaN   \n",
       "\n",
       "  Unnamed: 253 Unnamed: 254 Unnamed: 255  \n",
       "0          NaN          NaN          NaN  \n",
       "1          NaN          NaN          NaN  \n",
       "2          NaN          NaN          NaN  \n",
       "3          NaN          NaN          NaN  \n",
       "4          NaN          NaN          NaN  \n",
       "\n",
       "[5 rows x 256 columns]"
      ]
     },
     "execution_count": 2,
     "metadata": {},
     "output_type": "execute_result"
    }
   ],
   "source": [
    "sat = pd.read_csv('data/UCS-Satellite-Database-8-1-2020.txt', sep='\\t', encoding='latin-1')\n",
    "sat.head()"
   ]
  },
  {
   "cell_type": "code",
   "execution_count": 3,
   "metadata": {},
   "outputs": [],
   "source": [
    "#Dropping added columns filled with NaN\n",
    "\n",
    "sat.drop(sat.columns[sat.columns.str.contains('Unnamed:',case = False)],axis = 1, inplace = True)"
   ]
  },
  {
   "cell_type": "code",
   "execution_count": 4,
   "metadata": {},
   "outputs": [],
   "source": [
    "# I notice that the database has also 3 corrupted lines at the end. I will be dropping these as well:\n",
    "\n",
    "sat.drop(sat.tail(3).index,inplace=True)"
   ]
  },
  {
   "cell_type": "code",
   "execution_count": 5,
   "metadata": {},
   "outputs": [
    {
     "data": {
      "text/html": [
       "<div>\n",
       "<style scoped>\n",
       "    .dataframe tbody tr th:only-of-type {\n",
       "        vertical-align: middle;\n",
       "    }\n",
       "\n",
       "    .dataframe tbody tr th {\n",
       "        vertical-align: top;\n",
       "    }\n",
       "\n",
       "    .dataframe thead th {\n",
       "        text-align: right;\n",
       "    }\n",
       "</style>\n",
       "<table border=\"1\" class=\"dataframe\">\n",
       "  <thead>\n",
       "    <tr style=\"text-align: right;\">\n",
       "      <th></th>\n",
       "      <th>Name of Satellite, Alternate Names</th>\n",
       "      <th>Current Official Name of Satellite</th>\n",
       "      <th>Country/Org of UN Registry</th>\n",
       "      <th>Country of Operator/Owner</th>\n",
       "      <th>Operator/Owner</th>\n",
       "      <th>Users</th>\n",
       "      <th>Purpose</th>\n",
       "      <th>Detailed Purpose</th>\n",
       "      <th>Class of Orbit</th>\n",
       "      <th>Type of Orbit</th>\n",
       "      <th>...</th>\n",
       "      <th>COSPAR Number</th>\n",
       "      <th>NORAD Number</th>\n",
       "      <th>Comments</th>\n",
       "      <th>Source Used for Orbital Data</th>\n",
       "      <th>Source</th>\n",
       "      <th>Source.1</th>\n",
       "      <th>Source.2</th>\n",
       "      <th>Source.3</th>\n",
       "      <th>Source.4</th>\n",
       "      <th>Source.5</th>\n",
       "    </tr>\n",
       "  </thead>\n",
       "  <tbody>\n",
       "    <tr>\n",
       "      <th>2783</th>\n",
       "      <td>Ziyuan 1-2D</td>\n",
       "      <td>Ziyuan 1-2D</td>\n",
       "      <td>NR (11/19)</td>\n",
       "      <td>China</td>\n",
       "      <td>China Centre for Resources Satellite Data and ...</td>\n",
       "      <td>Government</td>\n",
       "      <td>Earth Observation</td>\n",
       "      <td>NaN</td>\n",
       "      <td>LEO</td>\n",
       "      <td>Sun-Synchronous</td>\n",
       "      <td>...</td>\n",
       "      <td>2019-059A</td>\n",
       "      <td>44528.0</td>\n",
       "      <td>Hyperspectral imaging</td>\n",
       "      <td>JMSatcat/11_19</td>\n",
       "      <td>https://spaceflightnow.com/2019/09/12/china-la...</td>\n",
       "      <td>http://www.planet4589.org/space/log/satcat.txt</td>\n",
       "      <td>NaN</td>\n",
       "      <td>NaN</td>\n",
       "      <td>NaN</td>\n",
       "      <td>NaN</td>\n",
       "    </tr>\n",
       "    <tr>\n",
       "      <th>2784</th>\n",
       "      <td>Ziyuan 3 (ZY-3)</td>\n",
       "      <td>Ziyuan 3</td>\n",
       "      <td>China</td>\n",
       "      <td>China</td>\n",
       "      <td>China Centre for Resources Satellite Data and ...</td>\n",
       "      <td>Government</td>\n",
       "      <td>Earth Observation</td>\n",
       "      <td>NaN</td>\n",
       "      <td>LEO</td>\n",
       "      <td>Sun-Synchronous</td>\n",
       "      <td>...</td>\n",
       "      <td>2012-001A</td>\n",
       "      <td>38046.0</td>\n",
       "      <td>Land survey satellite.</td>\n",
       "      <td>www.spacedebris.net 12/12</td>\n",
       "      <td>http://www.spaceflightnow.com/news/n1201/09lon...</td>\n",
       "      <td>https://spacenews.com/china-launches-five-comm...</td>\n",
       "      <td>NaN</td>\n",
       "      <td>NaN</td>\n",
       "      <td>NaN</td>\n",
       "      <td>NaN</td>\n",
       "    </tr>\n",
       "    <tr>\n",
       "      <th>2785</th>\n",
       "      <td>Ziyuan 3-2</td>\n",
       "      <td>Ziyuan 3-2</td>\n",
       "      <td>China</td>\n",
       "      <td>China</td>\n",
       "      <td>China Centre for Resources Satellite Data and ...</td>\n",
       "      <td>Government</td>\n",
       "      <td>Earth Observation</td>\n",
       "      <td>NaN</td>\n",
       "      <td>LEO</td>\n",
       "      <td>Sun-Synchronous</td>\n",
       "      <td>...</td>\n",
       "      <td>2016-033A</td>\n",
       "      <td>41556.0</td>\n",
       "      <td>Thought to be for intelligence gathering.</td>\n",
       "      <td>Space50</td>\n",
       "      <td>http://spaceflightnow.com/2016/05/31/long-marc...</td>\n",
       "      <td>https://www.planet4589.org/space/log/satcat.txt</td>\n",
       "      <td>http://space50.org/objekt.php?mot=2016-033A&amp;ja...</td>\n",
       "      <td>NaN</td>\n",
       "      <td>NaN</td>\n",
       "      <td>NaN</td>\n",
       "    </tr>\n",
       "    <tr>\n",
       "      <th>2786</th>\n",
       "      <td>Ziyuan 3-3</td>\n",
       "      <td>Ziyuan 3-3</td>\n",
       "      <td>NR (7/20)</td>\n",
       "      <td>China</td>\n",
       "      <td>China Centre for Resources Satellite Data and ...</td>\n",
       "      <td>Government</td>\n",
       "      <td>Earth Observation</td>\n",
       "      <td>NaN</td>\n",
       "      <td>LEO</td>\n",
       "      <td>Sun-Synchronous</td>\n",
       "      <td>...</td>\n",
       "      <td>2020-051A</td>\n",
       "      <td>45939.0</td>\n",
       "      <td>Land survey satellite. Provide data for the co...</td>\n",
       "      <td>ZARYA</td>\n",
       "      <td>https://spaceflightnow.com/2020/07/25/china-la...</td>\n",
       "      <td>http://www.lib.cas.cz/space.40/2011/079A.HTM</td>\n",
       "      <td>NaN</td>\n",
       "      <td>NaN</td>\n",
       "      <td>NaN</td>\n",
       "      <td>NaN</td>\n",
       "    </tr>\n",
       "  </tbody>\n",
       "</table>\n",
       "<p>4 rows × 35 columns</p>\n",
       "</div>"
      ],
      "text/plain": [
       "     Name of Satellite, Alternate Names Current Official Name of Satellite  \\\n",
       "2783                        Ziyuan 1-2D                        Ziyuan 1-2D   \n",
       "2784                    Ziyuan 3 (ZY-3)                           Ziyuan 3   \n",
       "2785                         Ziyuan 3-2                         Ziyuan 3-2   \n",
       "2786                         Ziyuan 3-3                         Ziyuan 3-3   \n",
       "\n",
       "     Country/Org of UN Registry Country of Operator/Owner  \\\n",
       "2783                 NR (11/19)                     China   \n",
       "2784                      China                     China   \n",
       "2785                      China                     China   \n",
       "2786                  NR (7/20)                     China   \n",
       "\n",
       "                                         Operator/Owner       Users  \\\n",
       "2783  China Centre for Resources Satellite Data and ...  Government   \n",
       "2784  China Centre for Resources Satellite Data and ...  Government   \n",
       "2785  China Centre for Resources Satellite Data and ...  Government   \n",
       "2786  China Centre for Resources Satellite Data and ...  Government   \n",
       "\n",
       "                Purpose Detailed Purpose Class of Orbit    Type of Orbit  ...  \\\n",
       "2783  Earth Observation              NaN            LEO  Sun-Synchronous  ...   \n",
       "2784  Earth Observation              NaN            LEO  Sun-Synchronous  ...   \n",
       "2785  Earth Observation              NaN            LEO  Sun-Synchronous  ...   \n",
       "2786  Earth Observation              NaN            LEO  Sun-Synchronous  ...   \n",
       "\n",
       "      COSPAR Number NORAD Number  \\\n",
       "2783      2019-059A      44528.0   \n",
       "2784      2012-001A      38046.0   \n",
       "2785      2016-033A      41556.0   \n",
       "2786      2020-051A      45939.0   \n",
       "\n",
       "                                               Comments  \\\n",
       "2783                              Hyperspectral imaging   \n",
       "2784                             Land survey satellite.   \n",
       "2785          Thought to be for intelligence gathering.   \n",
       "2786  Land survey satellite. Provide data for the co...   \n",
       "\n",
       "      Source Used for Orbital Data  \\\n",
       "2783                JMSatcat/11_19   \n",
       "2784     www.spacedebris.net 12/12   \n",
       "2785                       Space50   \n",
       "2786                         ZARYA   \n",
       "\n",
       "                                                 Source  \\\n",
       "2783  https://spaceflightnow.com/2019/09/12/china-la...   \n",
       "2784  http://www.spaceflightnow.com/news/n1201/09lon...   \n",
       "2785  http://spaceflightnow.com/2016/05/31/long-marc...   \n",
       "2786  https://spaceflightnow.com/2020/07/25/china-la...   \n",
       "\n",
       "                                               Source.1  \\\n",
       "2783     http://www.planet4589.org/space/log/satcat.txt   \n",
       "2784  https://spacenews.com/china-launches-five-comm...   \n",
       "2785    https://www.planet4589.org/space/log/satcat.txt   \n",
       "2786       http://www.lib.cas.cz/space.40/2011/079A.HTM   \n",
       "\n",
       "                                               Source.2 Source.3 Source.4  \\\n",
       "2783                                                NaN      NaN      NaN   \n",
       "2784                                                NaN      NaN      NaN   \n",
       "2785  http://space50.org/objekt.php?mot=2016-033A&ja...      NaN      NaN   \n",
       "2786                                                NaN      NaN      NaN   \n",
       "\n",
       "     Source.5  \n",
       "2783      NaN  \n",
       "2784      NaN  \n",
       "2785      NaN  \n",
       "2786      NaN  \n",
       "\n",
       "[4 rows x 35 columns]"
      ]
     },
     "execution_count": 5,
     "metadata": {},
     "output_type": "execute_result"
    }
   ],
   "source": [
    "sat.head()\n",
    "sat.tail(4)"
   ]
  },
  {
   "cell_type": "code",
   "execution_count": 6,
   "metadata": {},
   "outputs": [
    {
     "name": "stdout",
     "output_type": "stream",
     "text": [
      "<class 'pandas.core.frame.DataFrame'>\n",
      "Int64Index: 2787 entries, 0 to 2786\n",
      "Data columns (total 35 columns):\n",
      " #   Column                              Non-Null Count  Dtype  \n",
      "---  ------                              --------------  -----  \n",
      " 0   Name of Satellite, Alternate Names  2787 non-null   object \n",
      " 1   Current Official Name of Satellite  2787 non-null   object \n",
      " 2   Country/Org of UN Registry          2787 non-null   object \n",
      " 3   Country of Operator/Owner           2787 non-null   object \n",
      " 4   Operator/Owner                      2787 non-null   object \n",
      " 5   Users                               2787 non-null   object \n",
      " 6   Purpose                             2787 non-null   object \n",
      " 7   Detailed Purpose                    797 non-null    object \n",
      " 8   Class of Orbit                      2787 non-null   object \n",
      " 9   Type of Orbit                       2162 non-null   object \n",
      " 10  Longitude of GEO (degrees)          2787 non-null   float64\n",
      " 11  Perigee (km)                        2787 non-null   object \n",
      " 12  Apogee (km)                         2787 non-null   object \n",
      " 13  Eccentricity                        2787 non-null   float64\n",
      " 14  Inclination (degrees)               2787 non-null   float64\n",
      " 15  Period (minutes)                    2787 non-null   object \n",
      " 16  Launch Mass (kg.)                   2580 non-null   object \n",
      " 17  Dry Mass (kg.)                      443 non-null    object \n",
      " 18  Power (watts)                       603 non-null    object \n",
      " 19  Date of Launch                      2787 non-null   object \n",
      " 20  Expected Lifetime (yrs.)            1148 non-null   float64\n",
      " 21  Contractor                          2787 non-null   object \n",
      " 22  Country of Contractor               2787 non-null   object \n",
      " 23  Launch Site                         2787 non-null   object \n",
      " 24  Launch Vehicle                      2787 non-null   object \n",
      " 25  COSPAR Number                       2787 non-null   object \n",
      " 26  NORAD Number                        2787 non-null   float64\n",
      " 27  Comments                            1412 non-null   object \n",
      " 28  Source Used for Orbital Data        2580 non-null   object \n",
      " 29  Source                              2299 non-null   object \n",
      " 30  Source.1                            1539 non-null   object \n",
      " 31  Source.2                            726 non-null    object \n",
      " 32  Source.3                            279 non-null    object \n",
      " 33  Source.4                            83 non-null     object \n",
      " 34  Source.5                            18 non-null     object \n",
      "dtypes: float64(5), object(30)\n",
      "memory usage: 783.8+ KB\n"
     ]
    }
   ],
   "source": [
    "#Let's now get acquainted with the dataset:\n",
    "sat.info()\n",
    "\n",
    "#From this I see there are some missing data on some of the specs I would like to analyse. \n",
    "#Need ot look further into that\n",
    "#Date type --> needs to be changed\n",
    "#Sources don't seem to be relevant for the purpose of this analysis"
   ]
  },
  {
   "cell_type": "code",
   "execution_count": 7,
   "metadata": {},
   "outputs": [],
   "source": [
    "sat.drop(['Name of Satellite, Alternate Names','Country/Org of UN Registry','Operator/Owner','Purpose','Detailed Purpose','Type of Orbit','Eccentricity','Inclination (degrees)','Period (minutes)','Contractor','Launch Site','COSPAR Number','NORAD Number','Comments'], axis = 1,inplace=True)"
   ]
  },
  {
   "cell_type": "code",
   "execution_count": 8,
   "metadata": {},
   "outputs": [],
   "source": [
    "sat.drop(sat.columns[sat.columns.str.contains('Source',case = False)],axis = 1, inplace = True)"
   ]
  },
  {
   "cell_type": "code",
   "execution_count": 9,
   "metadata": {},
   "outputs": [
    {
     "data": {
      "text/html": [
       "<div>\n",
       "<style scoped>\n",
       "    .dataframe tbody tr th:only-of-type {\n",
       "        vertical-align: middle;\n",
       "    }\n",
       "\n",
       "    .dataframe tbody tr th {\n",
       "        vertical-align: top;\n",
       "    }\n",
       "\n",
       "    .dataframe thead th {\n",
       "        text-align: right;\n",
       "    }\n",
       "</style>\n",
       "<table border=\"1\" class=\"dataframe\">\n",
       "  <thead>\n",
       "    <tr style=\"text-align: right;\">\n",
       "      <th></th>\n",
       "      <th>Current Official Name of Satellite</th>\n",
       "      <th>Country of Operator/Owner</th>\n",
       "      <th>Users</th>\n",
       "      <th>Class of Orbit</th>\n",
       "      <th>Longitude of GEO (degrees)</th>\n",
       "      <th>Perigee (km)</th>\n",
       "      <th>Apogee (km)</th>\n",
       "      <th>Launch Mass (kg.)</th>\n",
       "      <th>Dry Mass (kg.)</th>\n",
       "      <th>Power (watts)</th>\n",
       "      <th>Date of Launch</th>\n",
       "      <th>Expected Lifetime (yrs.)</th>\n",
       "      <th>Country of Contractor</th>\n",
       "      <th>Launch Vehicle</th>\n",
       "    </tr>\n",
       "  </thead>\n",
       "  <tbody>\n",
       "    <tr>\n",
       "      <th>0</th>\n",
       "      <td>1HOPSAT</td>\n",
       "      <td>USA</td>\n",
       "      <td>Commercial</td>\n",
       "      <td>LEO</td>\n",
       "      <td>0.0</td>\n",
       "      <td>566</td>\n",
       "      <td>576</td>\n",
       "      <td>22</td>\n",
       "      <td>NaN</td>\n",
       "      <td>NaN</td>\n",
       "      <td>12/11/2019</td>\n",
       "      <td>0.5</td>\n",
       "      <td>USA</td>\n",
       "      <td>PSLV</td>\n",
       "    </tr>\n",
       "    <tr>\n",
       "      <th>1</th>\n",
       "      <td>3Cat-1</td>\n",
       "      <td>Spain</td>\n",
       "      <td>Civil</td>\n",
       "      <td>LEO</td>\n",
       "      <td>0.0</td>\n",
       "      <td>476</td>\n",
       "      <td>500</td>\n",
       "      <td>4</td>\n",
       "      <td>NaN</td>\n",
       "      <td>NaN</td>\n",
       "      <td>11/29/2018</td>\n",
       "      <td>NaN</td>\n",
       "      <td>Spain</td>\n",
       "      <td>PSLV</td>\n",
       "    </tr>\n",
       "    <tr>\n",
       "      <th>2</th>\n",
       "      <td>Aalto-1</td>\n",
       "      <td>Finland</td>\n",
       "      <td>Civil</td>\n",
       "      <td>LEO</td>\n",
       "      <td>0.0</td>\n",
       "      <td>497</td>\n",
       "      <td>517</td>\n",
       "      <td>5</td>\n",
       "      <td>NaN</td>\n",
       "      <td>4.5</td>\n",
       "      <td>6/23/2017</td>\n",
       "      <td>2.0</td>\n",
       "      <td>Finland</td>\n",
       "      <td>PSLV</td>\n",
       "    </tr>\n",
       "    <tr>\n",
       "      <th>3</th>\n",
       "      <td>AAUSat-4</td>\n",
       "      <td>Denmark</td>\n",
       "      <td>Civil</td>\n",
       "      <td>LEO</td>\n",
       "      <td>0.0</td>\n",
       "      <td>442</td>\n",
       "      <td>687</td>\n",
       "      <td>1</td>\n",
       "      <td>NaN</td>\n",
       "      <td>NaN</td>\n",
       "      <td>4/25/2016</td>\n",
       "      <td>NaN</td>\n",
       "      <td>Denmark</td>\n",
       "      <td>Soyuz 2.1a</td>\n",
       "    </tr>\n",
       "    <tr>\n",
       "      <th>4</th>\n",
       "      <td>ABS-2</td>\n",
       "      <td>Multinational</td>\n",
       "      <td>Commercial</td>\n",
       "      <td>GEO</td>\n",
       "      <td>75.0</td>\n",
       "      <td>35,778</td>\n",
       "      <td>35,793</td>\n",
       "      <td>6,330</td>\n",
       "      <td>NaN</td>\n",
       "      <td>16,000</td>\n",
       "      <td>2/6/2014</td>\n",
       "      <td>15.0</td>\n",
       "      <td>USA</td>\n",
       "      <td>Ariane 5 ECA</td>\n",
       "    </tr>\n",
       "    <tr>\n",
       "      <th>...</th>\n",
       "      <td>...</td>\n",
       "      <td>...</td>\n",
       "      <td>...</td>\n",
       "      <td>...</td>\n",
       "      <td>...</td>\n",
       "      <td>...</td>\n",
       "      <td>...</td>\n",
       "      <td>...</td>\n",
       "      <td>...</td>\n",
       "      <td>...</td>\n",
       "      <td>...</td>\n",
       "      <td>...</td>\n",
       "      <td>...</td>\n",
       "      <td>...</td>\n",
       "    </tr>\n",
       "    <tr>\n",
       "      <th>2782</th>\n",
       "      <td>Ziyuan 1-02C</td>\n",
       "      <td>China</td>\n",
       "      <td>Government</td>\n",
       "      <td>LEO</td>\n",
       "      <td>0.0</td>\n",
       "      <td>763</td>\n",
       "      <td>773</td>\n",
       "      <td>1,500</td>\n",
       "      <td>NaN</td>\n",
       "      <td>NaN</td>\n",
       "      <td>12/22/2011</td>\n",
       "      <td>NaN</td>\n",
       "      <td>China</td>\n",
       "      <td>Long March 4B</td>\n",
       "    </tr>\n",
       "    <tr>\n",
       "      <th>2783</th>\n",
       "      <td>Ziyuan 1-2D</td>\n",
       "      <td>China</td>\n",
       "      <td>Government</td>\n",
       "      <td>LEO</td>\n",
       "      <td>0.0</td>\n",
       "      <td>748</td>\n",
       "      <td>758</td>\n",
       "      <td>2,650</td>\n",
       "      <td>NaN</td>\n",
       "      <td>NaN</td>\n",
       "      <td>9/14/2019</td>\n",
       "      <td>5.0</td>\n",
       "      <td>China</td>\n",
       "      <td>Long March 4B</td>\n",
       "    </tr>\n",
       "    <tr>\n",
       "      <th>2784</th>\n",
       "      <td>Ziyuan 3</td>\n",
       "      <td>China</td>\n",
       "      <td>Government</td>\n",
       "      <td>LEO</td>\n",
       "      <td>0.0</td>\n",
       "      <td>500</td>\n",
       "      <td>504</td>\n",
       "      <td>2,650</td>\n",
       "      <td>NaN</td>\n",
       "      <td>NaN</td>\n",
       "      <td>1/9/2012</td>\n",
       "      <td>4.0</td>\n",
       "      <td>China</td>\n",
       "      <td>Long March 4B</td>\n",
       "    </tr>\n",
       "    <tr>\n",
       "      <th>2785</th>\n",
       "      <td>Ziyuan 3-2</td>\n",
       "      <td>China</td>\n",
       "      <td>Government</td>\n",
       "      <td>LEO</td>\n",
       "      <td>0.0</td>\n",
       "      <td>487</td>\n",
       "      <td>500</td>\n",
       "      <td>2,630</td>\n",
       "      <td>NaN</td>\n",
       "      <td>NaN</td>\n",
       "      <td>5/29/2016</td>\n",
       "      <td>4.0</td>\n",
       "      <td>China</td>\n",
       "      <td>Long March 4B</td>\n",
       "    </tr>\n",
       "    <tr>\n",
       "      <th>2786</th>\n",
       "      <td>Ziyuan 3-3</td>\n",
       "      <td>China</td>\n",
       "      <td>Government</td>\n",
       "      <td>LEO</td>\n",
       "      <td>0.0</td>\n",
       "      <td>487</td>\n",
       "      <td>499</td>\n",
       "      <td>2,630</td>\n",
       "      <td>NaN</td>\n",
       "      <td>NaN</td>\n",
       "      <td>7/25/2020</td>\n",
       "      <td>NaN</td>\n",
       "      <td>China</td>\n",
       "      <td>Long March 4B</td>\n",
       "    </tr>\n",
       "  </tbody>\n",
       "</table>\n",
       "<p>2787 rows × 14 columns</p>\n",
       "</div>"
      ],
      "text/plain": [
       "     Current Official Name of Satellite Country of Operator/Owner       Users  \\\n",
       "0                               1HOPSAT                       USA  Commercial   \n",
       "1                                3Cat-1                     Spain       Civil   \n",
       "2                               Aalto-1                   Finland       Civil   \n",
       "3                              AAUSat-4                   Denmark       Civil   \n",
       "4                                 ABS-2             Multinational  Commercial   \n",
       "...                                 ...                       ...         ...   \n",
       "2782                       Ziyuan 1-02C                     China  Government   \n",
       "2783                        Ziyuan 1-2D                     China  Government   \n",
       "2784                           Ziyuan 3                     China  Government   \n",
       "2785                         Ziyuan 3-2                     China  Government   \n",
       "2786                         Ziyuan 3-3                     China  Government   \n",
       "\n",
       "     Class of Orbit  Longitude of GEO (degrees) Perigee (km) Apogee (km)  \\\n",
       "0               LEO                         0.0          566         576   \n",
       "1               LEO                         0.0          476         500   \n",
       "2               LEO                         0.0          497         517   \n",
       "3               LEO                         0.0          442         687   \n",
       "4               GEO                        75.0       35,778      35,793   \n",
       "...             ...                         ...          ...         ...   \n",
       "2782            LEO                         0.0          763         773   \n",
       "2783            LEO                         0.0          748         758   \n",
       "2784            LEO                         0.0          500         504   \n",
       "2785            LEO                         0.0          487         500   \n",
       "2786            LEO                         0.0          487         499   \n",
       "\n",
       "     Launch Mass (kg.) Dry Mass (kg.) Power (watts) Date of Launch  \\\n",
       "0                   22            NaN           NaN     12/11/2019   \n",
       "1                    4            NaN           NaN     11/29/2018   \n",
       "2                    5            NaN           4.5      6/23/2017   \n",
       "3                    1            NaN           NaN      4/25/2016   \n",
       "4                6,330            NaN        16,000       2/6/2014   \n",
       "...                ...            ...           ...            ...   \n",
       "2782             1,500            NaN           NaN     12/22/2011   \n",
       "2783             2,650            NaN           NaN      9/14/2019   \n",
       "2784             2,650            NaN           NaN       1/9/2012   \n",
       "2785             2,630            NaN           NaN      5/29/2016   \n",
       "2786             2,630            NaN           NaN      7/25/2020   \n",
       "\n",
       "      Expected Lifetime (yrs.) Country of Contractor Launch Vehicle  \n",
       "0                          0.5                   USA           PSLV  \n",
       "1                          NaN                 Spain           PSLV  \n",
       "2                          2.0               Finland           PSLV  \n",
       "3                          NaN               Denmark     Soyuz 2.1a  \n",
       "4                         15.0                   USA   Ariane 5 ECA  \n",
       "...                        ...                   ...            ...  \n",
       "2782                       NaN                 China  Long March 4B  \n",
       "2783                       5.0                 China  Long March 4B  \n",
       "2784                       4.0                 China  Long March 4B  \n",
       "2785                       4.0                 China  Long March 4B  \n",
       "2786                       NaN                China   Long March 4B  \n",
       "\n",
       "[2787 rows x 14 columns]"
      ]
     },
     "execution_count": 9,
     "metadata": {},
     "output_type": "execute_result"
    }
   ],
   "source": [
    "sat"
   ]
  },
  {
   "cell_type": "code",
   "execution_count": 10,
   "metadata": {},
   "outputs": [],
   "source": [
    "## Relevant columns so far:\n",
    "\n",
    "# Countries/owners : currently exploiting the sats\n",
    "#Country of contractor : who builds sats\n",
    "# Users = gral purpose (Commercial,Government,Military,Civil and any mix between these) PB! --> Get dummies?!\n",
    "# Class of orbit = Type of satellite --> will certainly have a direct relation with measurements -specs\n",
    "# Date of Launch"
   ]
  },
  {
   "cell_type": "code",
   "execution_count": 11,
   "metadata": {},
   "outputs": [
    {
     "data": {
      "text/plain": [
       "Dry Mass (kg.)              2344\n",
       "Power (watts)               2184\n",
       "Expected Lifetime (yrs.)    1639\n",
       "Launch Mass (kg.)            207\n",
       "Launch Vehicle                 0\n",
       "Country of Contractor          0\n",
       "Date of Launch                 0\n",
       "dtype: int64"
      ]
     },
     "execution_count": 11,
     "metadata": {},
     "output_type": "execute_result"
    }
   ],
   "source": [
    "missing_values = sat.isnull().sum().sort_values(ascending=False)\n",
    "missing_values[:7] #the columns with missing values\n",
    "\n",
    "#To look into following relevant columns with high missing values:\n",
    "\n",
    "#Dry Mass(vs. LaunchMass)\n",
    "#Launch Mass (less missing values)\n",
    "#Power \n",
    "#Expected lifetime, \n",
    "#Type of Orbit (vs.Class of Orbit)--> Solved! Class of Orbit is what I need and no missing values!\n"
   ]
  },
  {
   "cell_type": "code",
   "execution_count": 12,
   "metadata": {},
   "outputs": [],
   "source": [
    "#Let's plot this data \n",
    "# sns.pairplot(data= sat)"
   ]
  },
  {
   "cell_type": "code",
   "execution_count": 13,
   "metadata": {},
   "outputs": [],
   "source": [
    "#Type of Orbits\n",
    "# print(sat['Type of Orbit'].value_counts())\n",
    "# sat['Type of Orbit'].hist(figsize=(15,12))\n",
    "#3 major types (counting polar) I believe class of orbit represents better "
   ]
  },
  {
   "cell_type": "code",
   "execution_count": 14,
   "metadata": {},
   "outputs": [
    {
     "name": "stdout",
     "output_type": "stream",
     "text": [
      "LEO           2032\n",
      "GEO            560\n",
      "MEO            137\n",
      "Elliptical      58\n",
      "Name: Class of Orbit, dtype: int64\n"
     ]
    },
    {
     "data": {
      "text/plain": [
       "<AxesSubplot:>"
      ]
     },
     "execution_count": 14,
     "metadata": {},
     "output_type": "execute_result"
    },
    {
     "data": {
      "image/png": "[encoded data removed]",
      "text/plain": [
       "<Figure size 432x432 with 1 Axes>"
      ]
     },
     "metadata": {
      "needs_background": "light"
     },
     "output_type": "display_data"
    }
   ],
   "source": [
    "#Class of Orbit\n",
    "print(sat['Class of Orbit'].value_counts())\n",
    "sat['Class of Orbit'].hist(figsize=(6,6))\n",
    "\n",
    "#LEO: Low Eliptic Orbit"
   ]
  },
  {
   "cell_type": "code",
   "execution_count": 15,
   "metadata": {},
   "outputs": [
    {
     "name": "stdout",
     "output_type": "stream",
     "text": [
      "USA               1406\n",
      "China              375\n",
      "Russia             170\n",
      "United Kingdom     129\n",
      "Japan               80\n",
      "Multinational       64\n",
      "India               58\n",
      "ESA                 53\n",
      "Canada              39\n",
      "Germany             33\n",
      "Name: Country of Operator/Owner, dtype: int64\n"
     ]
    },
    {
     "data": {
      "text/plain": [
       "<AxesSubplot:xlabel='Country of Operator/Owner'>"
      ]
     },
     "execution_count": 15,
     "metadata": {},
     "output_type": "execute_result"
    },
    {
     "data": {
      "image/png": "[encoded data removed]",
      "text/plain": [
       "<Figure size 1080x576 with 1 Axes>"
      ]
     },
     "metadata": {
      "needs_background": "light"
     },
     "output_type": "display_data"
    }
   ],
   "source": [
    "#per Country\n",
    "print(sat['Country of Operator/Owner'].value_counts()[:10])\n",
    "sats_country = sat.groupby(['Country of Operator/Owner'])['Current Official Name of Satellite'].agg('count').sort_values(ascending=False)[:10]\n",
    "sats_country.plot.bar(figsize=(15,8), color = 'olive')\n",
    "\n",
    "#Note:\n",
    "#The home country identified with the operator/owner given in column D, i.e., the country that operates \n",
    "#or owns the satellite or the home country of the business entity that does so. If this includes three \n",
    "#or fewer countries, each is listed; otherwise the project is simply designated as Multinational. \n",
    "#An exception to this is projects of the European Space Agency (ESA), which represent the joint efforts \n",
    "#of its 15 member states and are designated as ESA.\n",
    "\n",
    "#LET OP: some countries like Frane have multiple partnership projects as well as 'own' therefore,\n",
    "#whist the total of project under 1flag are lower, the total amount might be higher but is currently split "
   ]
  },
  {
   "cell_type": "code",
   "execution_count": 57,
   "metadata": {},
   "outputs": [
    {
     "name": "stdout",
     "output_type": "stream",
     "text": [
      "Class of Orbit  Country of Operator/Owner\n",
      "LEO             USA                          1164\n",
      "                China                         278\n",
      "GEO             USA                           178\n",
      "LEO             Russia                         99\n",
      "                United Kingdom                 90\n",
      "GEO             China                          66\n",
      "                Multinational                  52\n",
      "LEO             Japan                          51\n",
      "MEO             USA                            34\n",
      "GEO             Russia                         32\n",
      "                Luxembourg                     32\n",
      "LEO             Germany                        31\n",
      "Elliptical      USA                            30\n",
      "MEO             China                          30\n",
      "LEO             India                          29\n",
      "GEO             India                          29\n",
      "MEO             Russia                         29\n",
      "GEO             Japan                          27\n",
      "LEO             Canada                         24\n",
      "MEO             ESA                            24\n",
      "LEO             ESA                            21\n",
      "MEO             United Kingdom                 20\n",
      "GEO             United Kingdom                 19\n",
      "                Canada                         15\n",
      "LEO             Argentina                      14\n",
      "                Israel                         13\n",
      "                Saudi Arabia                   13\n",
      "                Taiwan/USA                     11\n",
      "                Spain                          11\n",
      "GEO             Spain                          10\n",
      "Name: Current Official Name of Satellite, dtype: int64\n"
     ]
    },
    {
     "data": {
      "text/plain": [
       "<AxesSubplot:xlabel='Class of Orbit,Country of Operator/Owner'>"
      ]
     },
     "execution_count": 57,
     "metadata": {},
     "output_type": "execute_result"
    },
    {
     "data": {
      "image/png": "[encoded data removed]",
      "text/plain": [
       "<Figure size 1080x576 with 1 Axes>"
      ]
     },
     "metadata": {
      "needs_background": "light"
     },
     "output_type": "display_data"
    }
   ],
   "source": [
    "print(sats_country)\n",
    "sats_country_class = sat.groupby(['Class of Orbit','Country of Operator/Owner'])['Current Official Name of Satellite'].agg('count').sort_values(ascending=False)[:30]\n",
    "sats_country_class.plot.bar(figsize=(15,8), color = 'y')"
   ]
  },
  {
   "cell_type": "code",
   "execution_count": 61,
   "metadata": {},
   "outputs": [],
   "source": [
    "sats_country= sat.groupby(['Country of Operator/Owner'])['Current Official Name of Satellite'].count().sort_values(ascending=False)[:30]"
   ]
  },
  {
   "cell_type": "code",
   "execution_count": 63,
   "metadata": {},
   "outputs": [
    {
     "data": {
      "text/plain": [
       "<AxesSubplot:xlabel='Country of Operator/Owner'>"
      ]
     },
     "execution_count": 63,
     "metadata": {},
     "output_type": "execute_result"
    },
    {
     "data": {
      "image/png": "[encoded data removed]",
      "text/plain": [
       "<Figure size 1080x576 with 1 Axes>"
      ]
     },
     "metadata": {
      "needs_background": "light"
     },
     "output_type": "display_data"
    }
   ],
   "source": [
    "sats_country.plot.bar(figsize=(15,8), color = 'm')"
   ]
  },
  {
   "cell_type": "code",
   "execution_count": 18,
   "metadata": {},
   "outputs": [
    {
     "name": "stdout",
     "output_type": "stream",
     "text": [
      "Commercial                        1514\n",
      "Government                         452\n",
      "Military                           357\n",
      "Civil                              140\n",
      "Government/Commercial              114\n",
      "Military/Commercial                 77\n",
      "Military/Government                 57\n",
      "Government/Civil                    43\n",
      "Commercial/Civil                    11\n",
      "Military/Civil                       7\n",
      "Government/Military                  5\n",
      "Civil/Government                     2\n",
      "Commercial/Military                  2\n",
      "Civil/Military                       2\n",
      "Commercial                           1\n",
      "Government/Commercial/Military       1\n",
      "Commercial/Government                1\n",
      "Military                             1\n",
      "Name: Users, dtype: int64\n"
     ]
    }
   ],
   "source": [
    "#per users\n",
    "print(sat.Users.value_counts())\n",
    "#From this I see too many categories... looking for a way to better categorize this. Dummies?"
   ]
  },
  {
   "cell_type": "code",
   "execution_count": 19,
   "metadata": {},
   "outputs": [],
   "source": [
    "covert_dict={'Commercial/Government':'Government/Commercial','Commercial/Military':'Military/Commercial',\n",
    "             'Civil/Military':'Military/Civil','Government/Military':'Military/Government','Civil/Government':'Government/Civil',\n",
    "            'Commercial ':'Commercial','Military ':'Military'}\n",
    "sat.Users = sat.Users.replace(covert_dict)"
   ]
  },
  {
   "cell_type": "code",
   "execution_count": 20,
   "metadata": {},
   "outputs": [
    {
     "data": {
      "text/plain": [
       "Commercial                        1515\n",
       "Government                         452\n",
       "Military                           358\n",
       "Civil                              140\n",
       "Government/Commercial              115\n",
       "Military/Commercial                 79\n",
       "Military/Government                 62\n",
       "Government/Civil                    45\n",
       "Commercial/Civil                    11\n",
       "Military/Civil                       9\n",
       "Government/Commercial/Military       1\n",
       "Name: Users, dtype: int64"
      ]
     },
     "execution_count": 20,
     "metadata": {},
     "output_type": "execute_result"
    }
   ],
   "source": [
    "sat.Users.value_counts()"
   ]
  },
  {
   "cell_type": "code",
   "execution_count": 21,
   "metadata": {},
   "outputs": [],
   "source": [
    "sat['Users_group'] = sat.Users"
   ]
  },
  {
   "cell_type": "code",
   "execution_count": 47,
   "metadata": {},
   "outputs": [],
   "source": [
    "#This is just pressing the data to submission... oh well, couldn't seem to find a list comprehension way here...\n",
    "\n",
    "group = {'Government/Commercial':'Dual','Military/Commercial':'Dual','Military/Government':'Dual',\n",
    "         'Government/Civil':'Dual','Commercial/Civil':'Dual','Military/Civil':'Dual','Government/Commercial/Military':'Dual'}\n",
    "\n",
    "sat.Users_group = sat.Users_group.replace(group)\n"
   ]
  },
  {
   "cell_type": "code",
   "execution_count": 48,
   "metadata": {},
   "outputs": [
    {
     "data": {
      "text/plain": [
       "array(['Commercial', 'Civil', 'Military', 'Government', 'Dual'],\n",
       "      dtype=object)"
      ]
     },
     "execution_count": 48,
     "metadata": {},
     "output_type": "execute_result"
    }
   ],
   "source": [
    "sat.Users_group.unique()"
   ]
  },
  {
   "cell_type": "code",
   "execution_count": 64,
   "metadata": {},
   "outputs": [
    {
     "data": {
      "text/plain": [
       "Country of Operator/Owner  Users_group\n",
       "USA                        Commercial     998\n",
       "                           Military       169\n",
       "                           Dual           142\n",
       "China                      Government     139\n",
       "United Kingdom             Commercial     120\n",
       "China                      Commercial      93\n",
       "Russia                     Military        72\n",
       "USA                        Government      66\n",
       "China                      Military        63\n",
       "                           Dual            57\n",
       "Russia                     Dual            55\n",
       "India                      Government      45\n",
       "Multinational              Commercial      42\n",
       "Japan                      Government      33\n",
       "USA                        Civil           31\n",
       "Luxembourg                 Commercial      31\n",
       "ESA                        Commercial      27\n",
       "                           Government      25\n",
       "Canada                     Commercial      25\n",
       "Japan                      Commercial      24\n",
       "China                      Civil           23\n",
       "Russia                     Commercial      19\n",
       "Japan                      Civil           18\n",
       "Russia                     Government      15\n",
       "Argentina                  Commercial      14\n",
       "Multinational              Government      12\n",
       "Germany                    Civil           11\n",
       "Multinational              Dual            10\n",
       "Australia                  Commercial      10\n",
       "Spain                      Commercial      10\n",
       "Name: Current Official Name of Satellite, dtype: int64"
      ]
     },
     "execution_count": 64,
     "metadata": {},
     "output_type": "execute_result"
    }
   ],
   "source": [
    "sats_users = sat.groupby(['Country of Operator/Owner','Users_group'])['Current Official Name of Satellite'].agg('count').sort_values(ascending=False)[:30]\n",
    "sats_users\n",
    "#The affiliation of the primary users of the satellite is described with one or more of the keywords: civil (academic, amateur), commercial, \n",
    "#government (meteorological, scientific, etc.), military. Satellites can be multi-use, hosting, for example, dedicated transponders for both \n",
    "#commercial and military applications.\n"
   ]
  },
  {
   "cell_type": "code",
   "execution_count": 65,
   "metadata": {},
   "outputs": [
    {
     "data": {
      "text/plain": [
       "array(['PSLV', 'Soyuz 2.1a', 'Ariane 5 ECA', 'Falcon 9', 'Atlas 3',\n",
       "       'Proton', 'Ariane', 'Titan IVA', 'Titan IV', 'Delta 4 Heavy',\n",
       "       'Atlas 5', 'Vega', 'Nanorack Deployer', 'Electron', 'Dnepr',\n",
       "       'Antares 230', 'Ariane 5', 'Pegasus XL', 'PSLV-CA', 'Soyuz-2.1b',\n",
       "       'Soyuz 2,1v', 'Long March 3B', 'Atlas 2A', 'Atlas 2AS', 'Proton M',\n",
       "       'Ariane 44L', 'Ariane 44LP', 'Proton K', 'Ariane 5G', 'Soyuz 2.1b',\n",
       "       'Zenit 3SLB', 'Zenit 2SB', 'Delta 2310', 'Soyuz', 'Epsilon',\n",
       "       'Falcon Heavy', 'Proton D', 'Breeze M', 'Ariane 42P', 'PSLV C-30',\n",
       "       'PSLV-C29', 'Long March 4B', 'Long March 3C', 'Long March 3A',\n",
       "       'Kosmos 3M', 'J-SSOD Deployer', 'PSLV C3', 'PSLV XL',\n",
       "       'Soyuz-Fregat', 'Long March 2B', 'Delta 2', 'Long March 11',\n",
       "       'PSLV C9', 'PSLV C6', 'PSLV C7', 'Atlas  5', 'Kuaizhou',\n",
       "       'Long March 2C', 'Space Shuttle (STS 93)', 'Long March 2D', 'H2A',\n",
       "       'SEOPS Slingshot Deployer', 'Strela', 'Titan 2', 'Soyuz 2',\n",
       "       'Minotaur-1', 'Rokot', 'Soyuz 2.1v', 'Delta 7000', 'Delta 7420',\n",
       "       'Pegasus', 'Long March 6', 'Minotaur 4', 'Zenit 3SL',\n",
       "       'Proton M/Breeze M', 'PSLV C2', 'Delta 4', 'Minotaur-C',\n",
       "       'Titan IVB', 'Titan 4B', 'Atlas 3B', 'Soyuz 2.1', 'Zenit',\n",
       "       'Soyuz 2/Fregat', 'Delta', 'Start 1', 'Ariane 4', 'Atlas 3A',\n",
       "       'Proton/Breeze M', 'Proton DM', 'Long March 4C', 'Atlas Centaur',\n",
       "       'Zenit 3', 'Soyuz-ST', 'Ariane 5 ES', 'Soyuz U',\n",
       "       'Soyuz.2.1a/Fregat', 'Soyuz 2.1a/Fregat', 'PSLV C17', 'GSLV',\n",
       "       'GSLV MK.3', 'GSLV Mk.2', 'Delta 4M', 'Delta 4M+', 'Kuaizhou 1A',\n",
       "       'JAXA M-V', 'Space Shuttle (STS 31)', 'Nanoracks Deployer',\n",
       "       'Atlas', 'GSLV F04', 'Delta 2 7920', 'L1011', 'PSLV-XL',\n",
       "       'PSLV-C27', 'PSLV C5', 'PSLX-XL', 'Delta 7920',\n",
       "       'Soyuz-Fregat(Soyuz 2)', 'Atlas 5 ECA', 'Titan 4A', 'Taurus',\n",
       "       'Qased', 'Ariane 42L', 'Soyuz-ST-B', 'Shavit', 'Shavit 2',\n",
       "       'Soyuz ST-B', 'SEOPS Slingshot deployer ', 'Athena 1',\n",
       "       'Soyuz STA/Fregat', 'Breeze KM', 'Jielong 1',\n",
       "       'Kaber Microsatellite Deployer',\n",
       "       'Dextre Arm + Kaber Microsatellite Deployer', 'PSLV C16',\n",
       "       'PSLV C12', 'Long March 5', 'Manual Deployment',\n",
       "       'Zenit 3SLBF/Fregat SB', 'Japanese Experiment Module',\n",
       "       'Minotaur 1', 'Tsyklon 3', 'Naro-1', 'Delta 7320',\n",
       "       'Space Shuttle (STS 26)', 'Space Shuttle (STS 43)',\n",
       "       'Space Shuttle (STS 54)', 'Space Shuttle (STS 70)', 'PSLV C10',\n",
       "       'PSLV C29', 'KT-2', 'Zenit 2M', 'Atlas 2'], dtype=object)"
      ]
     },
     "execution_count": 65,
     "metadata": {},
     "output_type": "execute_result"
    }
   ],
   "source": [
    "#per vehicle: With this I want to show the rise of independant actors such as SpaceX and the decline of institutions such as Ariane Space\n",
    "sat['Launch Vehicle'].unique() \n",
    "#OMG ok, too many... This remind me of a lab challenge with Servers... Maybe I can categorize these somehow"
   ]
  },
  {
   "cell_type": "code",
   "execution_count": 66,
   "metadata": {},
   "outputs": [
    {
     "data": {
      "text/plain": [
       "Falcon 9                      711\n",
       "PSLV                          198\n",
       "Atlas 5                       102\n",
       "Soyuz 2.1a                    102\n",
       "Ariane 5                       87\n",
       "                             ... \n",
       "Atlas 5 ECA                     1\n",
       "Space Shuttle (STS 26)          1\n",
       "PSLX-XL                         1\n",
       "Japanese Experiment Module      1\n",
       "PSLV C5                         1\n",
       "Name: Launch Vehicle, Length: 153, dtype: int64"
      ]
     },
     "execution_count": 66,
     "metadata": {},
     "output_type": "execute_result"
    }
   ],
   "source": [
    "sat['Launch Vehicle'].value_counts()"
   ]
  },
  {
   "cell_type": "code",
   "execution_count": 72,
   "metadata": {},
   "outputs": [],
   "source": [
    "vehicle_manuf = ['SpaceX', 'ArianeSpace', 'JAXA','Soyuz',]\n",
    "type_vehicle = []\n",
    "\n",
    "vehicles =['Falcon','PSLV','Soyuz','Atlas','Titan','Ariane','Delta','Vega','Nanorack','Electron','Dnepr','Antares',\n",
    "          'Pegasus','Long March','Proton','Epsilon','Zenit','Delta','Breeze','J-SSOD','Kosmos','Kuaizhou','Space Shuttle',\n",
    "           'H2A','Strela','SEOPS','Minotaur','Rokot','Start','GSLV','JAXA','L1011','Taurus','Qased','Shavit','Athena',\n",
    "           'Jielong','Kaber','Dextre','Manual','Japanese','Naro','KT','Tsyklon']\n",
    "\n",
    "def not_in_types(row):\n",
    "    for v in vehicles:\n",
    "        if v in str(row):\n",
    "            return v\n",
    "    \n",
    "#applying it to the df:\n",
    "sat['Vehicle_group'] = sat['Launch Vehicle'].apply(lambda row: not_in_types(row))"
   ]
  },
  {
   "cell_type": "code",
   "execution_count": 74,
   "metadata": {},
   "outputs": [
    {
     "data": {
      "text/plain": [
       "array(['PSLV', 'Soyuz', 'Ariane', 'Falcon', 'Atlas', 'Proton', 'Titan',\n",
       "       'Delta', 'Vega', 'Nanorack', 'Electron', 'Dnepr', 'Antares',\n",
       "       'Pegasus', 'Long March', 'Zenit', 'Epsilon', 'Breeze', 'Kosmos',\n",
       "       'J-SSOD', 'Kuaizhou', 'Space Shuttle', 'H2A', 'SEOPS', 'Strela',\n",
       "       'Minotaur', 'Rokot', 'Start', 'GSLV', 'JAXA', 'L1011', None,\n",
       "       'Taurus', 'Qased', 'Shavit', 'Athena', 'Jielong', 'Kaber',\n",
       "       'Manual', 'Japanese', 'Tsyklon', 'Naro', 'KT'], dtype=object)"
      ]
     },
     "execution_count": 74,
     "metadata": {},
     "output_type": "execute_result"
    }
   ],
   "source": [
    "sat['Vehicle_group'].unique()"
   ]
  },
  {
   "cell_type": "code",
   "execution_count": 77,
   "metadata": {},
   "outputs": [],
   "source": [
    "group_v = {\n",
    "       'Nanorack':'In-Space deployer', \n",
    "       'J-SSOD':'In-Space deployer','SEOPS':'In-Space deployer',\n",
    "       'L1011':'Pegasus',\n",
    "       'Kaber':'In-Space deployer',\n",
    "       'Manual':'In-Space deployer', 'Japanese':'In-Space deployer'}\n",
    "sat.Vehicle_group = sat.Vehicle_group.replace(group_v)"
   ]
  },
  {
   "cell_type": "code",
   "execution_count": 83,
   "metadata": {},
   "outputs": [
    {
     "data": {
      "text/plain": [
       "1"
      ]
     },
     "execution_count": 83,
     "metadata": {},
     "output_type": "execute_result"
    }
   ],
   "source": [
    "missing_vehicle = sat.Vehicle_group.isnull().sum()\n",
    "missing_vehicle"
   ]
  },
  {
   "cell_type": "code",
   "execution_count": 78,
   "metadata": {},
   "outputs": [
    {
     "data": {
      "text/plain": [
       "Falcon               733\n",
       "Long March           382\n",
       "Soyuz                333\n",
       "PSLV                 264\n",
       "Ariane               199\n",
       "Atlas                134\n",
       "Proton               124\n",
       "Delta                 97\n",
       "In-Space deployer     75\n",
       "Dnepr                 69\n",
       "Rokot                 52\n",
       "Electron              45\n",
       "Pegasus               41\n",
       "H2A                   41\n",
       "Zenit                 36\n",
       "Minotaur              26\n",
       "Titan                 23\n",
       "Kuaizhou              18\n",
       "Kosmos                18\n",
       "Vega                  17\n",
       "Breeze                 9\n",
       "GSLV                   8\n",
       "Epsilon                8\n",
       "Shavit                 6\n",
       "Antares                6\n",
       "Space Shuttle          6\n",
       "Jielong                3\n",
       "Taurus                 2\n",
       "Strela                 2\n",
       "Tsyklon                2\n",
       "Start                  2\n",
       "Qased                  1\n",
       "KT                     1\n",
       "JAXA                   1\n",
       "Athena                 1\n",
       "Naro                   1\n",
       "Name: Vehicle_group, dtype: int64"
      ]
     },
     "execution_count": 78,
     "metadata": {},
     "output_type": "execute_result"
    }
   ],
   "source": [
    "sat['Vehicle_group'].value_counts()"
   ]
  },
  {
   "cell_type": "code",
   "execution_count": 84,
   "metadata": {},
   "outputs": [
    {
     "data": {
      "text/plain": [
       "array(['2019-12-11T00:00:00.000000000', '2018-11-29T00:00:00.000000000',\n",
       "       '2017-06-23T00:00:00.000000000', ...,\n",
       "       '2011-12-22T00:00:00.000000000', '2019-09-14T00:00:00.000000000',\n",
       "       '2012-01-09T00:00:00.000000000'], dtype='datetime64[ns]')"
      ]
     },
     "execution_count": 84,
     "metadata": {},
     "output_type": "execute_result"
    }
   ],
   "source": [
    "sat['Date of Launch'] = pd.to_datetime(sat['Date of Launch'])\n",
    "sat.dtypes\n",
    "sat['Date of Launch'].unique()\n",
    "#cool"
   ]
  },
  {
   "cell_type": "code",
   "execution_count": 92,
   "metadata": {},
   "outputs": [
    {
     "data": {
      "text/plain": [
       "<AxesSubplot:xlabel='Date of Launch'>"
      ]
     },
     "execution_count": 92,
     "metadata": {},
     "output_type": "execute_result"
    },
    {
     "data": {
      "image/png": "[encoded data removed]",
      "text/plain": [
       "<Figure size 1080x864 with 1 Axes>"
      ]
     },
     "metadata": {
      "needs_background": "light"
     },
     "output_type": "display_data"
    }
   ],
   "source": [
    "sats_launch = sat.groupby(['Date of Launch'])['Current Official Name of Satellite'].count()\n",
    "sats_launch.plot(figsize=(15,12)) #This would be nice to do it per year with plotly !Sum per year?"
   ]
  },
  {
   "cell_type": "code",
   "execution_count": 94,
   "metadata": {},
   "outputs": [
    {
     "data": {
      "text/plain": [
       "<AxesSubplot:xlabel='Date of Launch'>"
      ]
     },
     "execution_count": 94,
     "metadata": {},
     "output_type": "execute_result"
    },
    {
     "data": {
      "image/png": "[encoded data removed]",
      "text/plain": [
       "<Figure size 1080x864 with 1 Axes>"
      ]
     },
     "metadata": {
      "needs_background": "light"
     },
     "output_type": "display_data"
    }
   ],
   "source": [
    "sats_launch = sat.loc[sat['Vehicle_group']=='In-Space deployer'].groupby(['Date of Launch'])['Current Official Name of Satellite'].count()\n",
    "sats_launch.plot(figsize=(15,12)) #This would be nice to do it per year with plotly !Sum per year?"
   ]
  },
  {
   "cell_type": "code",
   "execution_count": 96,
   "metadata": {},
   "outputs": [
    {
     "data": {
      "text/plain": [
       "<AxesSubplot:xlabel='Date of Launch'>"
      ]
     },
     "execution_count": 96,
     "metadata": {},
     "output_type": "execute_result"
    },
    {
     "data": {
      "image/png": "[encoded data removed]",
      "text/plain": [
       "<Figure size 1080x864 with 1 Axes>"
      ]
     },
     "metadata": {
      "needs_background": "light"
     },
     "output_type": "display_data"
    }
   ],
   "source": [
    "sats_launch = sat.loc[sat['Vehicle_group']=='Falcon'].groupby(['Date of Launch'])['Current Official Name of Satellite'].count()\n",
    "sats_launch.plot(figsize=(15,12)) #This would be nice to do it per year with plotly !Sum per year?"
   ]
  },
  {
   "cell_type": "code",
   "execution_count": 122,
   "metadata": {},
   "outputs": [
    {
     "data": {
      "text/plain": [
       "<AxesSubplot:xlabel='Date of Launch'>"
      ]
     },
     "execution_count": 122,
     "metadata": {},
     "output_type": "execute_result"
    },
    {
     "data": {
      "image/png": "[encoded data removed]",
      "text/plain": [
       "<Figure size 1080x864 with 1 Axes>"
      ]
     },
     "metadata": {
      "needs_background": "light"
     },
     "output_type": "display_data"
    }
   ],
   "source": [
    "sats_launch = sat.loc[sat['Vehicle_group']=='Ariane'].groupby(['Date of Launch'])['Current Official Name of Satellite'].count()\n",
    "sats_launch.plot(figsize=(15,12)) #This would be nice to do it per year with plotly !Sum per year?"
   ]
  },
  {
   "cell_type": "code",
   "execution_count": 123,
   "metadata": {},
   "outputs": [
    {
     "data": {
      "text/html": [
       "<div>\n",
       "<style scoped>\n",
       "    .dataframe tbody tr th:only-of-type {\n",
       "        vertical-align: middle;\n",
       "    }\n",
       "\n",
       "    .dataframe tbody tr th {\n",
       "        vertical-align: top;\n",
       "    }\n",
       "\n",
       "    .dataframe thead th {\n",
       "        text-align: right;\n",
       "    }\n",
       "</style>\n",
       "<table border=\"1\" class=\"dataframe\">\n",
       "  <thead>\n",
       "    <tr style=\"text-align: right;\">\n",
       "      <th></th>\n",
       "      <th>Current Official Name of Satellite</th>\n",
       "      <th>Country of Operator/Owner</th>\n",
       "      <th>Users</th>\n",
       "      <th>Class of Orbit</th>\n",
       "      <th>Longitude of GEO (degrees)</th>\n",
       "      <th>Perigee (km)</th>\n",
       "      <th>Apogee (km)</th>\n",
       "      <th>Launch Mass (kg.)</th>\n",
       "      <th>Dry Mass (kg.)</th>\n",
       "      <th>Power (watts)</th>\n",
       "      <th>Date of Launch</th>\n",
       "      <th>Expected Lifetime (yrs.)</th>\n",
       "      <th>Country of Contractor</th>\n",
       "      <th>Launch Vehicle</th>\n",
       "      <th>Users_group</th>\n",
       "      <th>Vehicle_group</th>\n",
       "      <th>Year</th>\n",
       "    </tr>\n",
       "  </thead>\n",
       "  <tbody>\n",
       "    <tr>\n",
       "      <th>1849</th>\n",
       "      <td>Skynet 4C</td>\n",
       "      <td>United Kingdom</td>\n",
       "      <td>Military</td>\n",
       "      <td>GEO</td>\n",
       "      <td>-1.30</td>\n",
       "      <td>35,775</td>\n",
       "      <td>35,797</td>\n",
       "      <td>1,474</td>\n",
       "      <td>850</td>\n",
       "      <td>1,200</td>\n",
       "      <td>1990-08-30</td>\n",
       "      <td>7.0</td>\n",
       "      <td>France/UK/Germany</td>\n",
       "      <td>Ariane 44LP</td>\n",
       "      <td>Military</td>\n",
       "      <td>Ariane</td>\n",
       "      <td>1990</td>\n",
       "    </tr>\n",
       "    <tr>\n",
       "      <th>119</th>\n",
       "      <td>Astra 1D</td>\n",
       "      <td>Luxembourg</td>\n",
       "      <td>Commercial</td>\n",
       "      <td>GEO</td>\n",
       "      <td>67.70</td>\n",
       "      <td>35,776</td>\n",
       "      <td>35,795</td>\n",
       "      <td>2,924</td>\n",
       "      <td>1,700</td>\n",
       "      <td>3,300</td>\n",
       "      <td>1994-11-01</td>\n",
       "      <td>15.0</td>\n",
       "      <td>USA</td>\n",
       "      <td>Ariane 42P</td>\n",
       "      <td>Commercial</td>\n",
       "      <td>Ariane</td>\n",
       "      <td>1994</td>\n",
       "    </tr>\n",
       "    <tr>\n",
       "      <th>1333</th>\n",
       "      <td>MSAT 1</td>\n",
       "      <td>USA/Canada</td>\n",
       "      <td>Commercial</td>\n",
       "      <td>GEO</td>\n",
       "      <td>-106.43</td>\n",
       "      <td>35,763</td>\n",
       "      <td>35,809</td>\n",
       "      <td>2,850</td>\n",
       "      <td>1,330</td>\n",
       "      <td>3,300</td>\n",
       "      <td>1996-04-20</td>\n",
       "      <td>12.0</td>\n",
       "      <td>Canada</td>\n",
       "      <td>Ariane 42P</td>\n",
       "      <td>Commercial</td>\n",
       "      <td>Ariane</td>\n",
       "      <td>1996</td>\n",
       "    </tr>\n",
       "    <tr>\n",
       "      <th>70</th>\n",
       "      <td>AMC-2</td>\n",
       "      <td>USA</td>\n",
       "      <td>Commercial</td>\n",
       "      <td>GEO</td>\n",
       "      <td>-100.98</td>\n",
       "      <td>35,774</td>\n",
       "      <td>35,798</td>\n",
       "      <td>2,648</td>\n",
       "      <td>1,600</td>\n",
       "      <td>6,500 (EOL)</td>\n",
       "      <td>1997-01-30</td>\n",
       "      <td>15.0</td>\n",
       "      <td>USA</td>\n",
       "      <td>Ariane 44L</td>\n",
       "      <td>Commercial</td>\n",
       "      <td>Ariane</td>\n",
       "      <td>1997</td>\n",
       "    </tr>\n",
       "    <tr>\n",
       "      <th>1425</th>\n",
       "      <td>NSS-5</td>\n",
       "      <td>Netherlands</td>\n",
       "      <td>Commercial</td>\n",
       "      <td>GEO</td>\n",
       "      <td>50.50</td>\n",
       "      <td>35,776</td>\n",
       "      <td>35,796</td>\n",
       "      <td>3,412</td>\n",
       "      <td>2,000</td>\n",
       "      <td>NaN</td>\n",
       "      <td>1997-09-23</td>\n",
       "      <td>14.0</td>\n",
       "      <td>USA</td>\n",
       "      <td>Ariane 42L</td>\n",
       "      <td>Commercial</td>\n",
       "      <td>Ariane</td>\n",
       "      <td>1997</td>\n",
       "    </tr>\n",
       "    <tr>\n",
       "      <th>...</th>\n",
       "      <td>...</td>\n",
       "      <td>...</td>\n",
       "      <td>...</td>\n",
       "      <td>...</td>\n",
       "      <td>...</td>\n",
       "      <td>...</td>\n",
       "      <td>...</td>\n",
       "      <td>...</td>\n",
       "      <td>...</td>\n",
       "      <td>...</td>\n",
       "      <td>...</td>\n",
       "      <td>...</td>\n",
       "      <td>...</td>\n",
       "      <td>...</td>\n",
       "      <td>...</td>\n",
       "      <td>...</td>\n",
       "      <td>...</td>\n",
       "    </tr>\n",
       "    <tr>\n",
       "      <th>2573</th>\n",
       "      <td>TIBA-1</td>\n",
       "      <td>Egypt</td>\n",
       "      <td>Military/Commercial</td>\n",
       "      <td>GEO</td>\n",
       "      <td>35.50</td>\n",
       "      <td>35,732</td>\n",
       "      <td>35,790</td>\n",
       "      <td>5,600</td>\n",
       "      <td>NaN</td>\n",
       "      <td>NaN</td>\n",
       "      <td>2019-11-26</td>\n",
       "      <td>15.0</td>\n",
       "      <td>France/Italy</td>\n",
       "      <td>Ariane 5 ECA</td>\n",
       "      <td>Dual</td>\n",
       "      <td>Ariane</td>\n",
       "      <td>2019</td>\n",
       "    </tr>\n",
       "    <tr>\n",
       "      <th>617</th>\n",
       "      <td>Eutelsat Konnect</td>\n",
       "      <td>Multinational</td>\n",
       "      <td>Commercial</td>\n",
       "      <td>GEO</td>\n",
       "      <td>14.00</td>\n",
       "      <td>35,700</td>\n",
       "      <td>35,700</td>\n",
       "      <td>3,618</td>\n",
       "      <td>NaN</td>\n",
       "      <td>NaN</td>\n",
       "      <td>2020-01-16</td>\n",
       "      <td>15.0</td>\n",
       "      <td>France/UK/Germany/Spain</td>\n",
       "      <td>Ariane 5</td>\n",
       "      <td>Commercial</td>\n",
       "      <td>Ariane</td>\n",
       "      <td>2020</td>\n",
       "    </tr>\n",
       "    <tr>\n",
       "      <th>844</th>\n",
       "      <td>GSAT-30</td>\n",
       "      <td>India</td>\n",
       "      <td>Government</td>\n",
       "      <td>GEO</td>\n",
       "      <td>83.00</td>\n",
       "      <td>35,794</td>\n",
       "      <td>35,844</td>\n",
       "      <td>3,357</td>\n",
       "      <td>NaN</td>\n",
       "      <td>NaN</td>\n",
       "      <td>2020-01-16</td>\n",
       "      <td>15.0</td>\n",
       "      <td>India</td>\n",
       "      <td>Ariane 5</td>\n",
       "      <td>Government</td>\n",
       "      <td>Ariane</td>\n",
       "      <td>2020</td>\n",
       "    </tr>\n",
       "    <tr>\n",
       "      <th>737</th>\n",
       "      <td>GEO-Kompsat-2B</td>\n",
       "      <td>South Korea</td>\n",
       "      <td>Government</td>\n",
       "      <td>GEO</td>\n",
       "      <td>128.00</td>\n",
       "      <td>35,782</td>\n",
       "      <td>35,792</td>\n",
       "      <td>3,379</td>\n",
       "      <td>NaN</td>\n",
       "      <td>NaN</td>\n",
       "      <td>2020-02-18</td>\n",
       "      <td>10.0</td>\n",
       "      <td>South Korea</td>\n",
       "      <td>Ariane 5</td>\n",
       "      <td>Government</td>\n",
       "      <td>Ariane</td>\n",
       "      <td>2020</td>\n",
       "    </tr>\n",
       "    <tr>\n",
       "      <th>1085</th>\n",
       "      <td>JCSat 17</td>\n",
       "      <td>Japan</td>\n",
       "      <td>Commercial</td>\n",
       "      <td>GEO</td>\n",
       "      <td>136.00</td>\n",
       "      <td>35,773</td>\n",
       "      <td>35,800</td>\n",
       "      <td>5,857</td>\n",
       "      <td>NaN</td>\n",
       "      <td>NaN</td>\n",
       "      <td>2020-02-18</td>\n",
       "      <td>15.0</td>\n",
       "      <td>USA</td>\n",
       "      <td>Ariane 5</td>\n",
       "      <td>Commercial</td>\n",
       "      <td>Ariane</td>\n",
       "      <td>2020</td>\n",
       "    </tr>\n",
       "  </tbody>\n",
       "</table>\n",
       "<p>199 rows × 17 columns</p>\n",
       "</div>"
      ],
      "text/plain": [
       "     Current Official Name of Satellite Country of Operator/Owner  \\\n",
       "1849                          Skynet 4C            United Kingdom   \n",
       "119                            Astra 1D                Luxembourg   \n",
       "1333                             MSAT 1                USA/Canada   \n",
       "70                                AMC-2                       USA   \n",
       "1425                              NSS-5               Netherlands   \n",
       "...                                 ...                       ...   \n",
       "2573                             TIBA-1                     Egypt   \n",
       "617                    Eutelsat Konnect             Multinational   \n",
       "844                             GSAT-30                     India   \n",
       "737                      GEO-Kompsat-2B               South Korea   \n",
       "1085                           JCSat 17                     Japan   \n",
       "\n",
       "                    Users Class of Orbit  Longitude of GEO (degrees)  \\\n",
       "1849             Military            GEO                       -1.30   \n",
       "119            Commercial            GEO                       67.70   \n",
       "1333           Commercial            GEO                     -106.43   \n",
       "70             Commercial            GEO                     -100.98   \n",
       "1425           Commercial            GEO                       50.50   \n",
       "...                   ...            ...                         ...   \n",
       "2573  Military/Commercial            GEO                       35.50   \n",
       "617            Commercial            GEO                       14.00   \n",
       "844            Government            GEO                       83.00   \n",
       "737            Government            GEO                      128.00   \n",
       "1085           Commercial            GEO                      136.00   \n",
       "\n",
       "     Perigee (km) Apogee (km) Launch Mass (kg.) Dry Mass (kg.) Power (watts)  \\\n",
       "1849       35,775      35,797             1,474            850         1,200   \n",
       "119        35,776      35,795             2,924          1,700         3,300   \n",
       "1333       35,763      35,809             2,850          1,330         3,300   \n",
       "70         35,774      35,798             2,648          1,600   6,500 (EOL)   \n",
       "1425       35,776      35,796             3,412          2,000           NaN   \n",
       "...           ...         ...               ...            ...           ...   \n",
       "2573       35,732      35,790             5,600            NaN           NaN   \n",
       "617        35,700      35,700             3,618            NaN           NaN   \n",
       "844        35,794      35,844             3,357            NaN           NaN   \n",
       "737        35,782      35,792             3,379            NaN           NaN   \n",
       "1085       35,773      35,800             5,857            NaN           NaN   \n",
       "\n",
       "     Date of Launch  Expected Lifetime (yrs.)    Country of Contractor  \\\n",
       "1849     1990-08-30                       7.0        France/UK/Germany   \n",
       "119      1994-11-01                      15.0                      USA   \n",
       "1333     1996-04-20                      12.0                   Canada   \n",
       "70       1997-01-30                      15.0                      USA   \n",
       "1425     1997-09-23                      14.0                      USA   \n",
       "...             ...                       ...                      ...   \n",
       "2573     2019-11-26                      15.0             France/Italy   \n",
       "617      2020-01-16                      15.0  France/UK/Germany/Spain   \n",
       "844      2020-01-16                      15.0                    India   \n",
       "737      2020-02-18                      10.0              South Korea   \n",
       "1085     2020-02-18                      15.0                      USA   \n",
       "\n",
       "     Launch Vehicle Users_group Vehicle_group  Year  \n",
       "1849    Ariane 44LP    Military        Ariane  1990  \n",
       "119      Ariane 42P  Commercial        Ariane  1994  \n",
       "1333     Ariane 42P  Commercial        Ariane  1996  \n",
       "70       Ariane 44L  Commercial        Ariane  1997  \n",
       "1425     Ariane 42L  Commercial        Ariane  1997  \n",
       "...             ...         ...           ...   ...  \n",
       "2573   Ariane 5 ECA        Dual        Ariane  2019  \n",
       "617        Ariane 5  Commercial        Ariane  2020  \n",
       "844        Ariane 5  Government        Ariane  2020  \n",
       "737        Ariane 5  Government        Ariane  2020  \n",
       "1085       Ariane 5  Commercial        Ariane  2020  \n",
       "\n",
       "[199 rows x 17 columns]"
      ]
     },
     "execution_count": 123,
     "metadata": {},
     "output_type": "execute_result"
    }
   ],
   "source": [
    "search = sat.loc[sat['Vehicle_group']=='Ariane'].sort_values(by='Date of Launch')\n",
    "search"
   ]
  },
  {
   "cell_type": "code",
   "execution_count": 87,
   "metadata": {},
   "outputs": [
    {
     "data": {
      "text/plain": [
       "<AxesSubplot:xlabel='Year'>"
      ]
     },
     "execution_count": 87,
     "metadata": {},
     "output_type": "execute_result"
    },
    {
     "data": {
      "image/png": "[encoded data removed]",
      "text/plain": [
       "<Figure size 432x288 with 1 Axes>"
      ]
     },
     "metadata": {
      "needs_background": "light"
     },
     "output_type": "display_data"
    }
   ],
   "source": [
    "#nb of sats per year\n",
    "launch = list(sat['Date of Launch'].unique())\n",
    "sat['Year'] = sat['Date of Launch'].astype(str).str[:4]\n",
    "sat_year = sat.groupby(['Year'])['Current Official Name of Satellite'].count()\n",
    "sat_year.plot()"
   ]
  },
  {
   "cell_type": "code",
   "execution_count": 88,
   "metadata": {},
   "outputs": [
    {
     "data": {
      "text/plain": [
       "array([1974, 1988, 1989, 1990, 1991, 1992, 1993, 1994, 1995, 1996, 1997,\n",
       "       1998, 1999, 2000, 2001, 2002, 2003, 2004, 2005, 2006, 2007, 2008,\n",
       "       2009, 2010, 2011, 2012, 2013, 2014, 2015, 2016, 2017, 2018, 2019,\n",
       "       2020])"
      ]
     },
     "execution_count": 88,
     "metadata": {},
     "output_type": "execute_result"
    }
   ],
   "source": [
    "sat['Year'] = sat['Year'].astype(int)\n",
    "years = sat['Year'].unique()\n",
    "np.sort(years)"
   ]
  },
  {
   "cell_type": "code",
   "execution_count": 90,
   "metadata": {},
   "outputs": [],
   "source": [
    "launch_year = sat.groupby(['Year'])['Date of launch'].count()"
   ]
  },
  {
   "cell_type": "code",
   "execution_count": null,
   "metadata": {},
   "outputs": [],
   "source": []
  }
 ],
 "metadata": {
  "kernelspec": {
   "display_name": "Python 3",
   "language": "python",
   "name": "python3"
  },
  "language_info": {
   "codemirror_mode": {
    "name": "ipython",
    "version": 3
   },
   "file_extension": ".py",
   "mimetype": "text/x-python",
   "name": "python",
   "nbconvert_exporter": "python",
   "pygments_lexer": "ipython3",
   "version": "3.8.6"
  }
 },
 "nbformat": 4,
 "nbformat_minor": 4
}
