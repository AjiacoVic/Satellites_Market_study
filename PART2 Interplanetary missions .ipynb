{
 "cells": [
  {
   "cell_type": "markdown",
   "metadata": {},
   "source": [
    "# INTERPLANETARY MISSIONS \n"
   ]
  },
  {
   "cell_type": "markdown",
   "metadata": {},
   "source": [
    "## DATABASE\n",
    "\n",
    "This database was collected and shared by a Science study manager at ESA/ESTEC \n",
    "The prupose of this part is to find a model that can help predicting the cost of an interplanetary mission based on parameters such as mass, instruments,\n",
    "\n",
    "First, let's take a look at what we have in terms on data for the missions collected."
   ]
  },
  {
   "cell_type": "markdown",
   "metadata": {},
   "source": [
    "- CODE TO 'CLEAN' the NOTEBOOK FOR PRESENTATION"
   ]
  },
  {
   "cell_type": "code",
   "execution_count": 1,
   "metadata": {},
   "outputs": [
    {
     "data": {
      "text/html": [
       "<script> \n",
       "code_show=true;  \n",
       "function code_toggle() { \n",
       "if (code_show){ \n",
       "$('div.input').hide(); \n",
       "} else { \n",
       "$('div.input').show(); \n",
       "} \n",
       "code_show = !code_show \n",
       "}  \n",
       "$( document ).ready(code_toggle); \n",
       "</script> \n",
       "<form action=\"javascript:code_toggle()\"><input type=\"submit\" value=\"Click here to toggle on/off the raw code.\"></form>"
      ],
      "text/plain": [
       "<IPython.core.display.HTML object>"
      ]
     },
     "execution_count": 1,
     "metadata": {},
     "output_type": "execute_result"
    }
   ],
   "source": [
    "from IPython.display import HTML\n",
    "HTML('''<script> \n",
    "code_show=true;  \n",
    "function code_toggle() { \n",
    "if (code_show){ \n",
    "$('div.input').hide(); \n",
    "} else { \n",
    "$('div.input').show(); \n",
    "} \n",
    "code_show = !code_show \n",
    "}  \n",
    "$( document ).ready(code_toggle); \n",
    "</script> \n",
    "<form action=\"javascript:code_toggle()\"><input type=\"submit\" value=\"Click here to toggle on/off the raw code.\"></form>''') "
   ]
  },
  {
   "cell_type": "markdown",
   "metadata": {},
   "source": [
    "- IMPORTING LIBRARIES"
   ]
  },
  {
   "cell_type": "code",
   "execution_count": 2,
   "metadata": {},
   "outputs": [],
   "source": [
    "import pandas as pd\n",
    "import numpy as np\n",
    "import matplotlib.pyplot as plt\n",
    "%matplotlib inline\n",
    "import seaborn as sns\n",
    "\n"
   ]
  },
  {
   "cell_type": "markdown",
   "metadata": {},
   "source": [
    "- IMPORTING THE DATASET"
   ]
  },
  {
   "cell_type": "code",
   "execution_count": 3,
   "metadata": {},
   "outputs": [],
   "source": [
    "ip_missions = pd.read_csv('/Users/ajiacovic/Documents/GitHub/Satellites_Market_study/data/sc_database_planetary.csv', sep=';')"
   ]
  },
  {
   "cell_type": "code",
   "execution_count": 4,
   "metadata": {},
   "outputs": [
    {
     "name": "stdout",
     "output_type": "stream",
     "text": [
      "<class 'pandas.core.frame.DataFrame'>\n",
      "RangeIndex: 123 entries, 0 to 122\n",
      "Data columns (total 66 columns):\n",
      " #   Column                          Non-Null Count  Dtype  \n",
      "---  ------                          --------------  -----  \n",
      " 0   mission                         46 non-null     object \n",
      " 1   Agency                          43 non-null     object \n",
      " 2   launch dte                      43 non-null     object \n",
      " 3   type                            43 non-null     object \n",
      " 4   Duration [years]                42 non-null     object \n",
      " 5   target                          43 non-null     object \n",
      " 6   category                        43 non-null     object \n",
      " 7   Instr #                         40 non-null     object \n",
      " 8   Delta V\n",
      "km/s                    39 non-null     object \n",
      " 9   e.c.                            43 non-null     float64\n",
      " 10  Dollar\n",
      "/EUR                     43 non-null     object \n",
      " 11  Indus Cost \n",
      "[MEUR]              36 non-null     object \n",
      " 12  Launch \n",
      "[MEUR]                  36 non-null     object \n",
      " 13  OPS \n",
      "[EUR]                      36 non-null     object \n",
      " 14  SCI \n",
      "[MEUR]                     36 non-null     object \n",
      " 15  ESTEC \n",
      "[MEUR]                   36 non-null     object \n",
      " 16  ESA Cost Risk [MEUR]            36 non-null     object \n",
      " 17  CaC at current e.c.             43 non-null     object \n",
      " 18  CaC at e.c.\n",
      " [MEUR]             43 non-null     object \n",
      " 19  B to FAR                        40 non-null     object \n",
      " 20  Maturity of the \n",
      "provided info  39 non-null     object \n",
      " 21  Comments                        42 non-null     object \n",
      " 22  L                               39 non-null     object \n",
      " 23  W                               39 non-null     object \n",
      " 24  H                               38 non-null     object \n",
      " 25  Max drate\n",
      " [kbps]               37 non-null     object \n",
      " 26  dMax to Earth                   39 non-null     object \n",
      " 27  Antenna [cm]                    37 non-null     object \n",
      " 28  Radiators                       37 non-null     object \n",
      " 29  SA [kg]                         37 non-null     object \n",
      " 30  SA [m2]                         37 non-null     object \n",
      " 31  Pmax [W]                        38 non-null     object \n",
      " 32  dMax to Sun                     39 non-null     object \n",
      " 33  WET                             35 non-null     object \n",
      " 34  DRY Mass                        35 non-null     object \n",
      " 35  AOCS                            37 non-null     object \n",
      " 36  COMMS                           37 non-null     object \n",
      " 37  CPROP                           37 non-null     object \n",
      " 38  EPROP                           37 non-null     object \n",
      " 39  DHS                             37 non-null     object \n",
      " 40  PAYLOAD                         38 non-null     object \n",
      " 41  MECH                            37 non-null     object \n",
      " 42  POW                             37 non-null     object \n",
      " 43  STR                             37 non-null     object \n",
      " 44  SYS                             37 non-null     object \n",
      " 45  TCS                             37 non-null     object \n",
      " 46  HARNESS                         37 non-null     object \n",
      " 47  MARGIN                          37 non-null     object \n",
      " 48  EPROP.1                         37 non-null     object \n",
      " 49  CPROP.1                         37 non-null     object \n",
      " 50  RESID                           37 non-null     object \n",
      " 51  AOCS.1                          10 non-null     object \n",
      " 52  COMMS.1                         10 non-null     object \n",
      " 53  CPROP.2                         10 non-null     object \n",
      " 54  EPROP.2                         10 non-null     object \n",
      " 55  DHS.1                           9 non-null      object \n",
      " 56  PAYLOAD.1                       19 non-null     object \n",
      " 57  MECH.1                          10 non-null     object \n",
      " 58  POW.1                           11 non-null     object \n",
      " 59  STR.1                           36 non-null     object \n",
      " 60  SYS.1                           14 non-null     object \n",
      " 61  TCS.1                           10 non-null     object \n",
      " 62  HARNESS.1                       9 non-null      object \n",
      " 63  SA kg/m2                        8 non-null      object \n",
      " 64  volume                          17 non-null     object \n",
      " 65  Density                         16 non-null     object \n",
      "dtypes: float64(1), object(65)\n",
      "memory usage: 63.5+ KB\n"
     ]
    }
   ],
   "source": [
    "ip_missions.info()\n",
    "#This dataset is small but seems to have a few issues: data types(sees commas so things are strings =to_numeric?), missing values, "
   ]
  },
  {
   "cell_type": "markdown",
   "metadata": {},
   "source": [
    "- SOLVING DATA TYPE ISSUES"
   ]
  },
  {
   "cell_type": "code",
   "execution_count": 5,
   "metadata": {},
   "outputs": [],
   "source": [
    "ip_missions = ip_missions.apply(lambda x: x.str.replace('%', ''), axis=1)"
   ]
  },
  {
   "cell_type": "code",
   "execution_count": 6,
   "metadata": {},
   "outputs": [
    {
     "data": {
      "text/html": [
       "<div>\n",
       "<style scoped>\n",
       "    .dataframe tbody tr th:only-of-type {\n",
       "        vertical-align: middle;\n",
       "    }\n",
       "\n",
       "    .dataframe tbody tr th {\n",
       "        vertical-align: top;\n",
       "    }\n",
       "\n",
       "    .dataframe thead th {\n",
       "        text-align: right;\n",
       "    }\n",
       "</style>\n",
       "<table border=\"1\" class=\"dataframe\">\n",
       "  <thead>\n",
       "    <tr style=\"text-align: right;\">\n",
       "      <th></th>\n",
       "      <th>mission</th>\n",
       "      <th>Agency</th>\n",
       "      <th>launch dte</th>\n",
       "      <th>type</th>\n",
       "      <th>Duration [years]</th>\n",
       "      <th>target</th>\n",
       "      <th>category</th>\n",
       "      <th>Instr #</th>\n",
       "      <th>Delta V\\nkm/s</th>\n",
       "      <th>e.c.</th>\n",
       "      <th>...</th>\n",
       "      <th>PAYLOAD.1</th>\n",
       "      <th>MECH.1</th>\n",
       "      <th>POW.1</th>\n",
       "      <th>STR.1</th>\n",
       "      <th>SYS.1</th>\n",
       "      <th>TCS.1</th>\n",
       "      <th>HARNESS.1</th>\n",
       "      <th>SA kg/m2</th>\n",
       "      <th>volume</th>\n",
       "      <th>Density</th>\n",
       "    </tr>\n",
       "  </thead>\n",
       "  <tbody>\n",
       "    <tr>\n",
       "      <th>0</th>\n",
       "      <td>AIM</td>\n",
       "      <td>ESA</td>\n",
       "      <td>2025</td>\n",
       "      <td>planetary</td>\n",
       "      <td>2</td>\n",
       "      <td>NEO</td>\n",
       "      <td>RDV</td>\n",
       "      <td>3</td>\n",
       "      <td>1.286</td>\n",
       "      <td>NaN</td>\n",
       "      <td>...</td>\n",
       "      <td>5</td>\n",
       "      <td>0</td>\n",
       "      <td>10</td>\n",
       "      <td>26</td>\n",
       "      <td>0</td>\n",
       "      <td>4</td>\n",
       "      <td>8</td>\n",
       "      <td>17</td>\n",
       "      <td>NaN</td>\n",
       "      <td>NaN</td>\n",
       "    </tr>\n",
       "    <tr>\n",
       "      <th>1</th>\n",
       "      <td>AKATSUKI</td>\n",
       "      <td>JAXA</td>\n",
       "      <td>2010</td>\n",
       "      <td>planetary</td>\n",
       "      <td>x</td>\n",
       "      <td>Venus</td>\n",
       "      <td>Orbiter</td>\n",
       "      <td>5</td>\n",
       "      <td>x</td>\n",
       "      <td>NaN</td>\n",
       "      <td>...</td>\n",
       "      <td>NaN</td>\n",
       "      <td>NaN</td>\n",
       "      <td>NaN</td>\n",
       "      <td>x</td>\n",
       "      <td>NaN</td>\n",
       "      <td>NaN</td>\n",
       "      <td>NaN</td>\n",
       "      <td>NaN</td>\n",
       "      <td>2.1112</td>\n",
       "      <td>236.8321334</td>\n",
       "    </tr>\n",
       "    <tr>\n",
       "      <th>2</th>\n",
       "      <td>BEPI COLOMBO</td>\n",
       "      <td>ESA/JAXA</td>\n",
       "      <td>2019</td>\n",
       "      <td>planetary</td>\n",
       "      <td>8</td>\n",
       "      <td>Mercury</td>\n",
       "      <td>Remote Sensing</td>\n",
       "      <td>11</td>\n",
       "      <td>x</td>\n",
       "      <td>NaN</td>\n",
       "      <td>...</td>\n",
       "      <td>NaN</td>\n",
       "      <td>NaN</td>\n",
       "      <td>NaN</td>\n",
       "      <td>x</td>\n",
       "      <td>NaN</td>\n",
       "      <td>NaN</td>\n",
       "      <td>NaN</td>\n",
       "      <td>NaN</td>\n",
       "      <td>NaN</td>\n",
       "      <td>NaN</td>\n",
       "    </tr>\n",
       "    <tr>\n",
       "      <th>3</th>\n",
       "      <td>CASSINI-HUYENS</td>\n",
       "      <td>NASA</td>\n",
       "      <td>1997</td>\n",
       "      <td>planetary</td>\n",
       "      <td>20</td>\n",
       "      <td>Saturn</td>\n",
       "      <td>x</td>\n",
       "      <td>11</td>\n",
       "      <td>2.04</td>\n",
       "      <td>NaN</td>\n",
       "      <td>...</td>\n",
       "      <td>NaN</td>\n",
       "      <td>NaN</td>\n",
       "      <td>1</td>\n",
       "      <td>x</td>\n",
       "      <td>14</td>\n",
       "      <td>NaN</td>\n",
       "      <td>NaN</td>\n",
       "      <td>NaN</td>\n",
       "      <td>108.8</td>\n",
       "      <td>51.76470588</td>\n",
       "    </tr>\n",
       "    <tr>\n",
       "      <th>4</th>\n",
       "      <td>DAWN</td>\n",
       "      <td>NASA</td>\n",
       "      <td>x</td>\n",
       "      <td>planetary</td>\n",
       "      <td>x</td>\n",
       "      <td>Main Belt</td>\n",
       "      <td>RDV</td>\n",
       "      <td>3</td>\n",
       "      <td>11</td>\n",
       "      <td>NaN</td>\n",
       "      <td>...</td>\n",
       "      <td>6</td>\n",
       "      <td>2</td>\n",
       "      <td>28</td>\n",
       "      <td>15</td>\n",
       "      <td>0</td>\n",
       "      <td>6</td>\n",
       "      <td>11</td>\n",
       "      <td>0</td>\n",
       "      <td>3.686556</td>\n",
       "      <td>330.2811621</td>\n",
       "    </tr>\n",
       "    <tr>\n",
       "      <th>...</th>\n",
       "      <td>...</td>\n",
       "      <td>...</td>\n",
       "      <td>...</td>\n",
       "      <td>...</td>\n",
       "      <td>...</td>\n",
       "      <td>...</td>\n",
       "      <td>...</td>\n",
       "      <td>...</td>\n",
       "      <td>...</td>\n",
       "      <td>...</td>\n",
       "      <td>...</td>\n",
       "      <td>...</td>\n",
       "      <td>...</td>\n",
       "      <td>...</td>\n",
       "      <td>...</td>\n",
       "      <td>...</td>\n",
       "      <td>...</td>\n",
       "      <td>...</td>\n",
       "      <td>...</td>\n",
       "      <td>...</td>\n",
       "      <td>...</td>\n",
       "    </tr>\n",
       "    <tr>\n",
       "      <th>118</th>\n",
       "      <td>NaN</td>\n",
       "      <td>NaN</td>\n",
       "      <td>NaN</td>\n",
       "      <td>NaN</td>\n",
       "      <td>NaN</td>\n",
       "      <td>NaN</td>\n",
       "      <td>NaN</td>\n",
       "      <td>NaN</td>\n",
       "      <td>NaN</td>\n",
       "      <td>NaN</td>\n",
       "      <td>...</td>\n",
       "      <td>NaN</td>\n",
       "      <td>NaN</td>\n",
       "      <td>NaN</td>\n",
       "      <td>NaN</td>\n",
       "      <td>NaN</td>\n",
       "      <td>NaN</td>\n",
       "      <td>NaN</td>\n",
       "      <td>NaN</td>\n",
       "      <td>NaN</td>\n",
       "      <td>NaN</td>\n",
       "    </tr>\n",
       "    <tr>\n",
       "      <th>119</th>\n",
       "      <td>NaN</td>\n",
       "      <td>NaN</td>\n",
       "      <td>NaN</td>\n",
       "      <td>NaN</td>\n",
       "      <td>NaN</td>\n",
       "      <td>NaN</td>\n",
       "      <td>NaN</td>\n",
       "      <td>NaN</td>\n",
       "      <td>NaN</td>\n",
       "      <td>NaN</td>\n",
       "      <td>...</td>\n",
       "      <td>NaN</td>\n",
       "      <td>NaN</td>\n",
       "      <td>NaN</td>\n",
       "      <td>NaN</td>\n",
       "      <td>NaN</td>\n",
       "      <td>NaN</td>\n",
       "      <td>NaN</td>\n",
       "      <td>NaN</td>\n",
       "      <td>NaN</td>\n",
       "      <td>NaN</td>\n",
       "    </tr>\n",
       "    <tr>\n",
       "      <th>120</th>\n",
       "      <td>#REF!</td>\n",
       "      <td>NaN</td>\n",
       "      <td>NaN</td>\n",
       "      <td>NaN</td>\n",
       "      <td>NaN</td>\n",
       "      <td>NaN</td>\n",
       "      <td>NaN</td>\n",
       "      <td>NaN</td>\n",
       "      <td>NaN</td>\n",
       "      <td>NaN</td>\n",
       "      <td>...</td>\n",
       "      <td>NaN</td>\n",
       "      <td>NaN</td>\n",
       "      <td>NaN</td>\n",
       "      <td>NaN</td>\n",
       "      <td>NaN</td>\n",
       "      <td>NaN</td>\n",
       "      <td>NaN</td>\n",
       "      <td>NaN</td>\n",
       "      <td>NaN</td>\n",
       "      <td>NaN</td>\n",
       "    </tr>\n",
       "    <tr>\n",
       "      <th>121</th>\n",
       "      <td>#REF!</td>\n",
       "      <td>NaN</td>\n",
       "      <td>NaN</td>\n",
       "      <td>NaN</td>\n",
       "      <td>NaN</td>\n",
       "      <td>NaN</td>\n",
       "      <td>NaN</td>\n",
       "      <td>NaN</td>\n",
       "      <td>NaN</td>\n",
       "      <td>NaN</td>\n",
       "      <td>...</td>\n",
       "      <td>NaN</td>\n",
       "      <td>NaN</td>\n",
       "      <td>NaN</td>\n",
       "      <td>NaN</td>\n",
       "      <td>NaN</td>\n",
       "      <td>NaN</td>\n",
       "      <td>NaN</td>\n",
       "      <td>NaN</td>\n",
       "      <td>NaN</td>\n",
       "      <td>NaN</td>\n",
       "    </tr>\n",
       "    <tr>\n",
       "      <th>122</th>\n",
       "      <td>#REF!</td>\n",
       "      <td>NaN</td>\n",
       "      <td>NaN</td>\n",
       "      <td>NaN</td>\n",
       "      <td>NaN</td>\n",
       "      <td>NaN</td>\n",
       "      <td>NaN</td>\n",
       "      <td>NaN</td>\n",
       "      <td>NaN</td>\n",
       "      <td>NaN</td>\n",
       "      <td>...</td>\n",
       "      <td>NaN</td>\n",
       "      <td>NaN</td>\n",
       "      <td>NaN</td>\n",
       "      <td>NaN</td>\n",
       "      <td>NaN</td>\n",
       "      <td>NaN</td>\n",
       "      <td>NaN</td>\n",
       "      <td>NaN</td>\n",
       "      <td>NaN</td>\n",
       "      <td>NaN</td>\n",
       "    </tr>\n",
       "  </tbody>\n",
       "</table>\n",
       "<p>123 rows × 66 columns</p>\n",
       "</div>"
      ],
      "text/plain": [
       "            mission    Agency launch dte       type Duration [years]  \\\n",
       "0               AIM       ESA       2025  planetary                2   \n",
       "1          AKATSUKI      JAXA       2010  planetary                x   \n",
       "2      BEPI COLOMBO  ESA/JAXA       2019  planetary                8   \n",
       "3    CASSINI-HUYENS      NASA       1997  planetary               20   \n",
       "4              DAWN      NASA          x  planetary                x   \n",
       "..              ...       ...        ...        ...              ...   \n",
       "118             NaN       NaN        NaN        NaN              NaN   \n",
       "119             NaN       NaN        NaN        NaN              NaN   \n",
       "120           #REF!       NaN        NaN        NaN              NaN   \n",
       "121           #REF!       NaN        NaN        NaN              NaN   \n",
       "122           #REF!       NaN        NaN        NaN              NaN   \n",
       "\n",
       "        target        category Instr # Delta V\\nkm/s  e.c.  ... PAYLOAD.1  \\\n",
       "0          NEO             RDV       3         1.286   NaN  ...         5   \n",
       "1        Venus         Orbiter       5             x   NaN  ...       NaN   \n",
       "2      Mercury  Remote Sensing      11             x   NaN  ...       NaN   \n",
       "3       Saturn               x      11          2.04   NaN  ...       NaN   \n",
       "4    Main Belt             RDV       3            11   NaN  ...         6   \n",
       "..         ...             ...     ...           ...   ...  ...       ...   \n",
       "118        NaN             NaN     NaN           NaN   NaN  ...       NaN   \n",
       "119        NaN             NaN     NaN           NaN   NaN  ...       NaN   \n",
       "120        NaN             NaN     NaN           NaN   NaN  ...       NaN   \n",
       "121        NaN             NaN     NaN           NaN   NaN  ...       NaN   \n",
       "122        NaN             NaN     NaN           NaN   NaN  ...       NaN   \n",
       "\n",
       "    MECH.1 POW.1 STR.1 SYS.1 TCS.1 HARNESS.1 SA kg/m2    volume      Density  \n",
       "0        0    10    26     0     4         8       17       NaN          NaN  \n",
       "1      NaN   NaN     x   NaN   NaN       NaN      NaN    2.1112  236.8321334  \n",
       "2      NaN   NaN     x   NaN   NaN       NaN      NaN       NaN          NaN  \n",
       "3      NaN     1     x    14   NaN       NaN      NaN     108.8  51.76470588  \n",
       "4        2    28    15     0     6        11        0  3.686556  330.2811621  \n",
       "..     ...   ...   ...   ...   ...       ...      ...       ...          ...  \n",
       "118    NaN   NaN   NaN   NaN   NaN       NaN      NaN       NaN          NaN  \n",
       "119    NaN   NaN   NaN   NaN   NaN       NaN      NaN       NaN          NaN  \n",
       "120    NaN   NaN   NaN   NaN   NaN       NaN      NaN       NaN          NaN  \n",
       "121    NaN   NaN   NaN   NaN   NaN       NaN      NaN       NaN          NaN  \n",
       "122    NaN   NaN   NaN   NaN   NaN       NaN      NaN       NaN          NaN  \n",
       "\n",
       "[123 rows x 66 columns]"
      ]
     },
     "execution_count": 6,
     "metadata": {},
     "output_type": "execute_result"
    }
   ],
   "source": [
    "ip_missions = ip_missions.apply(lambda x: x.str.replace(',', '.'), axis=1)\n",
    "ip_missions"
   ]
  },
  {
   "cell_type": "code",
   "execution_count": 7,
   "metadata": {},
   "outputs": [],
   "source": [
    "wrong_type_columns = ['Delta V\\nkm/s', 'e.c.', 'Dollar\\n/EUR',\n",
    "       'Indus Cost \\n[MEUR]', 'Launch \\n[MEUR]', 'OPS \\n[EUR]', 'SCI \\n[MEUR]',\n",
    "       'ESTEC \\n[MEUR]', 'ESA Cost Risk [MEUR]', 'CaC at current e.c.',\n",
    "       'CaC at e.c.\\n [MEUR]', 'B to FAR ', 'Maturity of the \\nprovided info',\n",
    "       'Comments ', 'L', 'W', 'H', 'Max drate\\n [kbps]', 'dMax to Earth',\n",
    "       'Antenna [cm]', 'Radiators', 'SA [kg]', 'SA [m2]', 'Pmax [W]',\n",
    "       'dMax to Sun', 'WET', 'DRY Mass', 'AOCS', 'COMMS', 'CPROP', 'EPROP',\n",
    "       'DHS', 'PAYLOAD', 'MECH', 'POW', 'STR', 'SYS', 'TCS', 'HARNESS',\n",
    "       'MARGIN', 'EPROP.1', 'CPROP.1', 'RESID', 'AOCS.1', 'COMMS.1', 'CPROP.2',\n",
    "       'EPROP.2', 'DHS.1', 'PAYLOAD.1', 'MECH.1', 'POW.1', 'STR.1', 'SYS.1',\n",
    "       'TCS.1', 'HARNESS.1', 'SA kg/m2', 'volume', 'Density','Instr #','Duration [years]']\n",
    "ip_missions[wrong_type_columns] = ip_missions[wrong_type_columns].apply(pd.to_numeric, errors ='coerce')"
   ]
  },
  {
   "cell_type": "markdown",
   "metadata": {},
   "source": [
    "- CLEARING OUT EMPTY ROWS"
   ]
  },
  {
   "cell_type": "code",
   "execution_count": 8,
   "metadata": {},
   "outputs": [
    {
     "data": {
      "text/html": [
       "<div>\n",
       "<style scoped>\n",
       "    .dataframe tbody tr th:only-of-type {\n",
       "        vertical-align: middle;\n",
       "    }\n",
       "\n",
       "    .dataframe tbody tr th {\n",
       "        vertical-align: top;\n",
       "    }\n",
       "\n",
       "    .dataframe thead th {\n",
       "        text-align: right;\n",
       "    }\n",
       "</style>\n",
       "<table border=\"1\" class=\"dataframe\">\n",
       "  <thead>\n",
       "    <tr style=\"text-align: right;\">\n",
       "      <th></th>\n",
       "      <th>mission</th>\n",
       "      <th>Agency</th>\n",
       "      <th>launch dte</th>\n",
       "      <th>type</th>\n",
       "      <th>Duration [years]</th>\n",
       "      <th>target</th>\n",
       "      <th>category</th>\n",
       "      <th>Instr #</th>\n",
       "      <th>Delta V\\nkm/s</th>\n",
       "      <th>e.c.</th>\n",
       "      <th>...</th>\n",
       "      <th>PAYLOAD.1</th>\n",
       "      <th>MECH.1</th>\n",
       "      <th>POW.1</th>\n",
       "      <th>STR.1</th>\n",
       "      <th>SYS.1</th>\n",
       "      <th>TCS.1</th>\n",
       "      <th>HARNESS.1</th>\n",
       "      <th>SA kg/m2</th>\n",
       "      <th>volume</th>\n",
       "      <th>Density</th>\n",
       "    </tr>\n",
       "  </thead>\n",
       "  <tbody>\n",
       "    <tr>\n",
       "      <th>42</th>\n",
       "      <td>VEX</td>\n",
       "      <td>ESA</td>\n",
       "      <td>2008</td>\n",
       "      <td>planetary</td>\n",
       "      <td>NaN</td>\n",
       "      <td>Venus</td>\n",
       "      <td>Orbiter</td>\n",
       "      <td>7.0</td>\n",
       "      <td>NaN</td>\n",
       "      <td>NaN</td>\n",
       "      <td>...</td>\n",
       "      <td>0.144483</td>\n",
       "      <td>0.0</td>\n",
       "      <td>0.122964</td>\n",
       "      <td>0.215187</td>\n",
       "      <td>0.0</td>\n",
       "      <td>0.115279</td>\n",
       "      <td>0.115279</td>\n",
       "      <td>0.0</td>\n",
       "      <td>4.046</td>\n",
       "      <td>301.679931</td>\n",
       "    </tr>\n",
       "    <tr>\n",
       "      <th>43</th>\n",
       "      <td>NaN</td>\n",
       "      <td>NaN</td>\n",
       "      <td>NaN</td>\n",
       "      <td>NaN</td>\n",
       "      <td>NaN</td>\n",
       "      <td>NaN</td>\n",
       "      <td>NaN</td>\n",
       "      <td>NaN</td>\n",
       "      <td>NaN</td>\n",
       "      <td>NaN</td>\n",
       "      <td>...</td>\n",
       "      <td>NaN</td>\n",
       "      <td>NaN</td>\n",
       "      <td>NaN</td>\n",
       "      <td>NaN</td>\n",
       "      <td>NaN</td>\n",
       "      <td>NaN</td>\n",
       "      <td>NaN</td>\n",
       "      <td>NaN</td>\n",
       "      <td>NaN</td>\n",
       "      <td>NaN</td>\n",
       "    </tr>\n",
       "    <tr>\n",
       "      <th>44</th>\n",
       "      <td>NaN</td>\n",
       "      <td>NaN</td>\n",
       "      <td>NaN</td>\n",
       "      <td>NaN</td>\n",
       "      <td>NaN</td>\n",
       "      <td>NaN</td>\n",
       "      <td>NaN</td>\n",
       "      <td>NaN</td>\n",
       "      <td>NaN</td>\n",
       "      <td>NaN</td>\n",
       "      <td>...</td>\n",
       "      <td>NaN</td>\n",
       "      <td>NaN</td>\n",
       "      <td>NaN</td>\n",
       "      <td>NaN</td>\n",
       "      <td>NaN</td>\n",
       "      <td>NaN</td>\n",
       "      <td>NaN</td>\n",
       "      <td>NaN</td>\n",
       "      <td>NaN</td>\n",
       "      <td>NaN</td>\n",
       "    </tr>\n",
       "    <tr>\n",
       "      <th>45</th>\n",
       "      <td>NaN</td>\n",
       "      <td>NaN</td>\n",
       "      <td>NaN</td>\n",
       "      <td>NaN</td>\n",
       "      <td>NaN</td>\n",
       "      <td>NaN</td>\n",
       "      <td>NaN</td>\n",
       "      <td>NaN</td>\n",
       "      <td>NaN</td>\n",
       "      <td>NaN</td>\n",
       "      <td>...</td>\n",
       "      <td>NaN</td>\n",
       "      <td>NaN</td>\n",
       "      <td>NaN</td>\n",
       "      <td>NaN</td>\n",
       "      <td>NaN</td>\n",
       "      <td>NaN</td>\n",
       "      <td>NaN</td>\n",
       "      <td>NaN</td>\n",
       "      <td>NaN</td>\n",
       "      <td>NaN</td>\n",
       "    </tr>\n",
       "    <tr>\n",
       "      <th>46</th>\n",
       "      <td>NaN</td>\n",
       "      <td>NaN</td>\n",
       "      <td>NaN</td>\n",
       "      <td>NaN</td>\n",
       "      <td>NaN</td>\n",
       "      <td>NaN</td>\n",
       "      <td>NaN</td>\n",
       "      <td>NaN</td>\n",
       "      <td>NaN</td>\n",
       "      <td>NaN</td>\n",
       "      <td>...</td>\n",
       "      <td>NaN</td>\n",
       "      <td>NaN</td>\n",
       "      <td>NaN</td>\n",
       "      <td>NaN</td>\n",
       "      <td>NaN</td>\n",
       "      <td>NaN</td>\n",
       "      <td>NaN</td>\n",
       "      <td>NaN</td>\n",
       "      <td>NaN</td>\n",
       "      <td>NaN</td>\n",
       "    </tr>\n",
       "    <tr>\n",
       "      <th>...</th>\n",
       "      <td>...</td>\n",
       "      <td>...</td>\n",
       "      <td>...</td>\n",
       "      <td>...</td>\n",
       "      <td>...</td>\n",
       "      <td>...</td>\n",
       "      <td>...</td>\n",
       "      <td>...</td>\n",
       "      <td>...</td>\n",
       "      <td>...</td>\n",
       "      <td>...</td>\n",
       "      <td>...</td>\n",
       "      <td>...</td>\n",
       "      <td>...</td>\n",
       "      <td>...</td>\n",
       "      <td>...</td>\n",
       "      <td>...</td>\n",
       "      <td>...</td>\n",
       "      <td>...</td>\n",
       "      <td>...</td>\n",
       "      <td>...</td>\n",
       "    </tr>\n",
       "    <tr>\n",
       "      <th>118</th>\n",
       "      <td>NaN</td>\n",
       "      <td>NaN</td>\n",
       "      <td>NaN</td>\n",
       "      <td>NaN</td>\n",
       "      <td>NaN</td>\n",
       "      <td>NaN</td>\n",
       "      <td>NaN</td>\n",
       "      <td>NaN</td>\n",
       "      <td>NaN</td>\n",
       "      <td>NaN</td>\n",
       "      <td>...</td>\n",
       "      <td>NaN</td>\n",
       "      <td>NaN</td>\n",
       "      <td>NaN</td>\n",
       "      <td>NaN</td>\n",
       "      <td>NaN</td>\n",
       "      <td>NaN</td>\n",
       "      <td>NaN</td>\n",
       "      <td>NaN</td>\n",
       "      <td>NaN</td>\n",
       "      <td>NaN</td>\n",
       "    </tr>\n",
       "    <tr>\n",
       "      <th>119</th>\n",
       "      <td>NaN</td>\n",
       "      <td>NaN</td>\n",
       "      <td>NaN</td>\n",
       "      <td>NaN</td>\n",
       "      <td>NaN</td>\n",
       "      <td>NaN</td>\n",
       "      <td>NaN</td>\n",
       "      <td>NaN</td>\n",
       "      <td>NaN</td>\n",
       "      <td>NaN</td>\n",
       "      <td>...</td>\n",
       "      <td>NaN</td>\n",
       "      <td>NaN</td>\n",
       "      <td>NaN</td>\n",
       "      <td>NaN</td>\n",
       "      <td>NaN</td>\n",
       "      <td>NaN</td>\n",
       "      <td>NaN</td>\n",
       "      <td>NaN</td>\n",
       "      <td>NaN</td>\n",
       "      <td>NaN</td>\n",
       "    </tr>\n",
       "    <tr>\n",
       "      <th>120</th>\n",
       "      <td>#REF!</td>\n",
       "      <td>NaN</td>\n",
       "      <td>NaN</td>\n",
       "      <td>NaN</td>\n",
       "      <td>NaN</td>\n",
       "      <td>NaN</td>\n",
       "      <td>NaN</td>\n",
       "      <td>NaN</td>\n",
       "      <td>NaN</td>\n",
       "      <td>NaN</td>\n",
       "      <td>...</td>\n",
       "      <td>NaN</td>\n",
       "      <td>NaN</td>\n",
       "      <td>NaN</td>\n",
       "      <td>NaN</td>\n",
       "      <td>NaN</td>\n",
       "      <td>NaN</td>\n",
       "      <td>NaN</td>\n",
       "      <td>NaN</td>\n",
       "      <td>NaN</td>\n",
       "      <td>NaN</td>\n",
       "    </tr>\n",
       "    <tr>\n",
       "      <th>121</th>\n",
       "      <td>#REF!</td>\n",
       "      <td>NaN</td>\n",
       "      <td>NaN</td>\n",
       "      <td>NaN</td>\n",
       "      <td>NaN</td>\n",
       "      <td>NaN</td>\n",
       "      <td>NaN</td>\n",
       "      <td>NaN</td>\n",
       "      <td>NaN</td>\n",
       "      <td>NaN</td>\n",
       "      <td>...</td>\n",
       "      <td>NaN</td>\n",
       "      <td>NaN</td>\n",
       "      <td>NaN</td>\n",
       "      <td>NaN</td>\n",
       "      <td>NaN</td>\n",
       "      <td>NaN</td>\n",
       "      <td>NaN</td>\n",
       "      <td>NaN</td>\n",
       "      <td>NaN</td>\n",
       "      <td>NaN</td>\n",
       "    </tr>\n",
       "    <tr>\n",
       "      <th>122</th>\n",
       "      <td>#REF!</td>\n",
       "      <td>NaN</td>\n",
       "      <td>NaN</td>\n",
       "      <td>NaN</td>\n",
       "      <td>NaN</td>\n",
       "      <td>NaN</td>\n",
       "      <td>NaN</td>\n",
       "      <td>NaN</td>\n",
       "      <td>NaN</td>\n",
       "      <td>NaN</td>\n",
       "      <td>...</td>\n",
       "      <td>NaN</td>\n",
       "      <td>NaN</td>\n",
       "      <td>NaN</td>\n",
       "      <td>NaN</td>\n",
       "      <td>NaN</td>\n",
       "      <td>NaN</td>\n",
       "      <td>NaN</td>\n",
       "      <td>NaN</td>\n",
       "      <td>NaN</td>\n",
       "      <td>NaN</td>\n",
       "    </tr>\n",
       "  </tbody>\n",
       "</table>\n",
       "<p>81 rows × 66 columns</p>\n",
       "</div>"
      ],
      "text/plain": [
       "    mission Agency launch dte       type  Duration [years] target category  \\\n",
       "42      VEX    ESA       2008  planetary               NaN  Venus  Orbiter   \n",
       "43      NaN    NaN        NaN        NaN               NaN    NaN      NaN   \n",
       "44      NaN    NaN        NaN        NaN               NaN    NaN      NaN   \n",
       "45      NaN    NaN        NaN        NaN               NaN    NaN      NaN   \n",
       "46      NaN    NaN        NaN        NaN               NaN    NaN      NaN   \n",
       "..      ...    ...        ...        ...               ...    ...      ...   \n",
       "118     NaN    NaN        NaN        NaN               NaN    NaN      NaN   \n",
       "119     NaN    NaN        NaN        NaN               NaN    NaN      NaN   \n",
       "120   #REF!    NaN        NaN        NaN               NaN    NaN      NaN   \n",
       "121   #REF!    NaN        NaN        NaN               NaN    NaN      NaN   \n",
       "122   #REF!    NaN        NaN        NaN               NaN    NaN      NaN   \n",
       "\n",
       "     Instr #  Delta V\\nkm/s  e.c.  ...  PAYLOAD.1  MECH.1     POW.1     STR.1  \\\n",
       "42       7.0            NaN   NaN  ...   0.144483     0.0  0.122964  0.215187   \n",
       "43       NaN            NaN   NaN  ...        NaN     NaN       NaN       NaN   \n",
       "44       NaN            NaN   NaN  ...        NaN     NaN       NaN       NaN   \n",
       "45       NaN            NaN   NaN  ...        NaN     NaN       NaN       NaN   \n",
       "46       NaN            NaN   NaN  ...        NaN     NaN       NaN       NaN   \n",
       "..       ...            ...   ...  ...        ...     ...       ...       ...   \n",
       "118      NaN            NaN   NaN  ...        NaN     NaN       NaN       NaN   \n",
       "119      NaN            NaN   NaN  ...        NaN     NaN       NaN       NaN   \n",
       "120      NaN            NaN   NaN  ...        NaN     NaN       NaN       NaN   \n",
       "121      NaN            NaN   NaN  ...        NaN     NaN       NaN       NaN   \n",
       "122      NaN            NaN   NaN  ...        NaN     NaN       NaN       NaN   \n",
       "\n",
       "     SYS.1     TCS.1  HARNESS.1  SA kg/m2  volume     Density  \n",
       "42     0.0  0.115279   0.115279       0.0   4.046  301.679931  \n",
       "43     NaN       NaN        NaN       NaN     NaN         NaN  \n",
       "44     NaN       NaN        NaN       NaN     NaN         NaN  \n",
       "45     NaN       NaN        NaN       NaN     NaN         NaN  \n",
       "46     NaN       NaN        NaN       NaN     NaN         NaN  \n",
       "..     ...       ...        ...       ...     ...         ...  \n",
       "118    NaN       NaN        NaN       NaN     NaN         NaN  \n",
       "119    NaN       NaN        NaN       NaN     NaN         NaN  \n",
       "120    NaN       NaN        NaN       NaN     NaN         NaN  \n",
       "121    NaN       NaN        NaN       NaN     NaN         NaN  \n",
       "122    NaN       NaN        NaN       NaN     NaN         NaN  \n",
       "\n",
       "[81 rows x 66 columns]"
      ]
     },
     "execution_count": 8,
     "metadata": {},
     "output_type": "execute_result"
    }
   ],
   "source": [
    "#When checking the dataset, I also noticed some 'empty row's' let's check them out:\n",
    "\n",
    "ip_missions.tail(81)#Ok, it looks as is the dataset was missing the last 80 rows, or that they were added when saved \n",
    "#This data comes from excel."
   ]
  },
  {
   "cell_type": "code",
   "execution_count": 9,
   "metadata": {},
   "outputs": [],
   "source": [
    "ip_missions = ip_missions[:-80]"
   ]
  },
  {
   "cell_type": "code",
   "execution_count": 10,
   "metadata": {},
   "outputs": [
    {
     "data": {
      "text/plain": [
       "mission              object\n",
       "Agency               object\n",
       "launch dte           object\n",
       "type                 object\n",
       "Duration [years]    float64\n",
       "                     ...   \n",
       "TCS.1               float64\n",
       "HARNESS.1           float64\n",
       "SA kg/m2            float64\n",
       "volume              float64\n",
       "Density             float64\n",
       "Length: 66, dtype: object"
      ]
     },
     "execution_count": 10,
     "metadata": {},
     "output_type": "execute_result"
    }
   ],
   "source": [
    "ip_missions.dtypes"
   ]
  },
  {
   "cell_type": "markdown",
   "metadata": {},
   "source": [
    "- CHECKING MISSING VALUES"
   ]
  },
  {
   "cell_type": "code",
   "execution_count": 11,
   "metadata": {},
   "outputs": [
    {
     "data": {
      "text/plain": [
       "e.c.                               43\n",
       "Dollar\\n/EUR                       43\n",
       "Comments                           43\n",
       "Maturity of the \\nprovided info    43\n",
       "Radiators                          42\n",
       "                                   ..\n",
       "CaC at e.c.\\n [MEUR]                0\n",
       "type                                0\n",
       "launch dte                          0\n",
       "Agency                              0\n",
       "mission                             0\n",
       "Length: 66, dtype: int64"
      ]
     },
     "execution_count": 11,
     "metadata": {},
     "output_type": "execute_result"
    }
   ],
   "source": [
    "missing_values = ip_missions.isnull().sum().sort_values(ascending=False)\n",
    "missing_values"
   ]
  },
  {
   "cell_type": "markdown",
   "metadata": {},
   "source": [
    "- DROPPING EMPTY COLUMNS"
   ]
  },
  {
   "cell_type": "code",
   "execution_count": 12,
   "metadata": {},
   "outputs": [
    {
     "data": {
      "text/plain": [
       "Index(['mission', 'Agency', 'launch dte', 'type', 'Duration [years]', 'target',\n",
       "       'category', 'Instr #', 'Delta V\\nkm/s', 'e.c.', 'Dollar\\n/EUR',\n",
       "       'Indus Cost \\n[MEUR]', 'Launch \\n[MEUR]', 'OPS \\n[EUR]', 'SCI \\n[MEUR]',\n",
       "       'ESTEC \\n[MEUR]', 'ESA Cost Risk [MEUR]', 'CaC at current e.c.',\n",
       "       'CaC at e.c.\\n [MEUR]', 'B to FAR ', 'Maturity of the \\nprovided info',\n",
       "       'Comments ', 'L', 'W', 'H', 'Max drate\\n [kbps]', 'dMax to Earth',\n",
       "       'Antenna [cm]', 'Radiators', 'SA [kg]', 'SA [m2]', 'Pmax [W]',\n",
       "       'dMax to Sun', 'WET', 'DRY Mass', 'AOCS', 'COMMS', 'CPROP', 'EPROP',\n",
       "       'DHS', 'PAYLOAD', 'MECH', 'POW', 'STR', 'SYS', 'TCS', 'HARNESS',\n",
       "       'MARGIN', 'EPROP.1', 'CPROP.1', 'RESID', 'AOCS.1', 'COMMS.1', 'CPROP.2',\n",
       "       'EPROP.2', 'DHS.1', 'PAYLOAD.1', 'MECH.1', 'POW.1', 'STR.1', 'SYS.1',\n",
       "       'TCS.1', 'HARNESS.1', 'SA kg/m2', 'volume', 'Density'],\n",
       "      dtype='object')"
      ]
     },
     "execution_count": 12,
     "metadata": {},
     "output_type": "execute_result"
    }
   ],
   "source": [
    "ip_missions.columns"
   ]
  },
  {
   "cell_type": "code",
   "execution_count": 13,
   "metadata": {},
   "outputs": [
    {
     "name": "stderr",
     "output_type": "stream",
     "text": [
      "/Library/Frameworks/Python.framework/Versions/3.8/lib/python3.8/site-packages/pandas/core/frame.py:4167: SettingWithCopyWarning: \n",
      "A value is trying to be set on a copy of a slice from a DataFrame\n",
      "\n",
      "See the caveats in the documentation: https://pandas.pydata.org/pandas-docs/stable/user_guide/indexing.html#returning-a-view-versus-a-copy\n",
      "  return super().drop(\n"
     ]
    }
   ],
   "source": [
    "ip_missions.drop(['Comments ','Dollar\\n/EUR','Maturity of the \\nprovided info','e.c.','Radiators'], axis=1, inplace=True)"
   ]
  },
  {
   "cell_type": "code",
   "execution_count": 14,
   "metadata": {},
   "outputs": [],
   "source": [
    "#Unfortunately most of the features have too many missing values that cannot be interpolated \n",
    "#In the near uture the goal will be to add the information in order to run a more acurate model\n",
    "#In the meantime, we will drop it, for the purpose of this exercice.\n",
    "\n",
    "ip_missions.drop(['AOCS', 'COMMS', 'CPROP', 'EPROP',\n",
    "       'DHS', 'PAYLOAD', 'MECH', 'POW', 'STR', 'SYS', 'TCS', 'HARNESS',\n",
    "       'MARGIN', 'EPROP.1', 'CPROP.1', 'RESID', 'AOCS.1', 'COMMS.1', 'CPROP.2',\n",
    "       'EPROP.2', 'DHS.1', 'PAYLOAD.1', 'MECH.1', 'POW.1', 'STR.1', 'SYS.1',\n",
    "       'TCS.1', 'HARNESS.1','L', 'W', 'H', 'Max drate\\n [kbps]', 'dMax to Earth',\n",
    "       'Antenna [cm]', 'SA [kg]', 'SA [m2]', 'CaC at e.c.\\n [MEUR]',\n",
    "       'B to FAR ', 'Delta V\\nkm/s', 'Indus Cost \\n[MEUR]',\n",
    "       'Launch \\n[MEUR]', 'OPS \\n[EUR]', 'SCI \\n[MEUR]', 'ESTEC \\n[MEUR]',\n",
    "       'ESA Cost Risk [MEUR]'],axis =1, inplace=True)\n"
   ]
  },
  {
   "cell_type": "code",
   "execution_count": 15,
   "metadata": {},
   "outputs": [],
   "source": [
    "ip_missions.drop(['SA kg/m2','Density','volume'],axis=1,inplace=True)\n"
   ]
  },
  {
   "cell_type": "code",
   "execution_count": 16,
   "metadata": {},
   "outputs": [
    {
     "data": {
      "text/plain": [
       "Duration [years]       29\n",
       "Pmax [W]               17\n",
       "DRY Mass                8\n",
       "WET                     8\n",
       "Instr #                 6\n",
       "dMax to Sun             5\n",
       "CaC at current e.c.     0\n",
       "category                0\n",
       "target                  0\n",
       "type                    0\n",
       "launch dte              0\n",
       "Agency                  0\n",
       "mission                 0\n",
       "dtype: int64"
      ]
     },
     "execution_count": 16,
     "metadata": {},
     "output_type": "execute_result"
    }
   ],
   "source": [
    "missing_values = ip_missions.isnull().sum().sort_values(ascending=False)\n",
    "missing_values"
   ]
  },
  {
   "cell_type": "markdown",
   "metadata": {},
   "source": [
    "- CHOSING RELEVANT FEATURES / TARGET "
   ]
  },
  {
   "cell_type": "code",
   "execution_count": 17,
   "metadata": {},
   "outputs": [
    {
     "name": "stderr",
     "output_type": "stream",
     "text": [
      "/Library/Frameworks/Python.framework/Versions/3.8/lib/python3.8/site-packages/pandas/core/frame.py:4300: SettingWithCopyWarning: \n",
      "A value is trying to be set on a copy of a slice from a DataFrame\n",
      "\n",
      "See the caveats in the documentation: https://pandas.pydata.org/pandas-docs/stable/user_guide/indexing.html#returning-a-view-versus-a-copy\n",
      "  return super().rename(\n"
     ]
    }
   ],
   "source": [
    "ip_missions.rename(columns={'Duration [years]':'Duration_Years',\n",
    "                    'launch dte':'Launch_Date','target':'mission_taget',\n",
    "                    'Instr #':'Instruments','CaC at current e.c.':'Cost',\n",
    "                    'Pmax [W]':'Power_Watts','dMax to Sun':'MaxDistance_toSun',\n",
    "                    'DRY Mass':'Dry_Mass'}, inplace=True)"
   ]
  },
  {
   "cell_type": "code",
   "execution_count": 24,
   "metadata": {},
   "outputs": [
    {
     "data": {
      "text/plain": [
       "array(['RDV', 'Orbiter', 'Remote Sensing', 'x', 'Flybyer',\n",
       "       'Sample Return', 'Probe', 'Orbiter ', 'Impactor', 'Lander'],\n",
       "      dtype=object)"
      ]
     },
     "execution_count": 24,
     "metadata": {},
     "output_type": "execute_result"
    }
   ],
   "source": [
    "ip_missions.category.unique()\n",
    "#I see many categories here that could be gathered into bigger categories:\n",
    "# Orbiter - Lander - Flybyer - Probe -Other"
   ]
  },
  {
   "cell_type": "code",
   "execution_count": 28,
   "metadata": {},
   "outputs": [
    {
     "name": "stderr",
     "output_type": "stream",
     "text": [
      "<ipython-input-28-013786d1ba6d>:1: SettingWithCopyWarning: \n",
      "A value is trying to be set on a copy of a slice from a DataFrame.\n",
      "Try using .loc[row_indexer,col_indexer] = value instead\n",
      "\n",
      "See the caveats in the documentation: https://pandas.pydata.org/pandas-docs/stable/user_guide/indexing.html#returning-a-view-versus-a-copy\n",
      "  ip_missions['Cat'] = ip_missions['category']\n",
      "<ipython-input-28-013786d1ba6d>:4: SettingWithCopyWarning: \n",
      "A value is trying to be set on a copy of a slice from a DataFrame.\n",
      "Try using .loc[row_indexer,col_indexer] = value instead\n",
      "\n",
      "See the caveats in the documentation: https://pandas.pydata.org/pandas-docs/stable/user_guide/indexing.html#returning-a-view-versus-a-copy\n",
      "  ip_missions['Cat'] = ip_missions['Cat'].replace(ip_m_converter)\n"
     ]
    }
   ],
   "source": [
    "ip_missions['Cat'] = ip_missions['category']\n",
    "ip_m_converter = {'RDV':'Orbiter', 'Remote Sensing':'Orbiter', 'x':'Other',\n",
    "       'Sample Return':'Other', 'Orbiter ':'Orbiter', 'Impactor':'Other'}\n",
    "ip_missions['Cat'] = ip_missions['Cat'].replace(ip_m_converter)"
   ]
  },
  {
   "cell_type": "code",
   "execution_count": 29,
   "metadata": {},
   "outputs": [
    {
     "data": {
      "text/plain": [
       "array(['Orbiter', 'Other', 'Flybyer', 'Probe', 'Lander'], dtype=object)"
      ]
     },
     "execution_count": 29,
     "metadata": {},
     "output_type": "execute_result"
    }
   ],
   "source": [
    "ip_missions.Cat.unique()"
   ]
  },
  {
   "cell_type": "code",
   "execution_count": 31,
   "metadata": {},
   "outputs": [
    {
     "name": "stderr",
     "output_type": "stream",
     "text": [
      "<ipython-input-31-198fbc0baf57>:4: SettingWithCopyWarning: \n",
      "A value is trying to be set on a copy of a slice from a DataFrame.\n",
      "Try using .loc[row_indexer,col_indexer] = value instead\n",
      "\n",
      "See the caveats in the documentation: https://pandas.pydata.org/pandas-docs/stable/user_guide/indexing.html#returning-a-view-versus-a-copy\n",
      "  ip_missions[cat] = ip_missions.category.str.contains(cat, regex=False).astype(int)\n"
     ]
    }
   ],
   "source": [
    "m_cat = ['Orbiter', 'Lander', 'Flybyer', 'Probe','Other']\n",
    "\n",
    "for cat in m_cat:\n",
    "    ip_missions[cat] = ip_missions.category.str.contains(cat, regex=False).astype(int)"
   ]
  },
  {
   "cell_type": "code",
   "execution_count": 33,
   "metadata": {},
   "outputs": [
    {
     "name": "stderr",
     "output_type": "stream",
     "text": [
      "/Library/Frameworks/Python.framework/Versions/3.8/lib/python3.8/site-packages/pandas/core/frame.py:4167: SettingWithCopyWarning: \n",
      "A value is trying to be set on a copy of a slice from a DataFrame\n",
      "\n",
      "See the caveats in the documentation: https://pandas.pydata.org/pandas-docs/stable/user_guide/indexing.html#returning-a-view-versus-a-copy\n",
      "  return super().drop(\n"
     ]
    }
   ],
   "source": [
    "ip_missions.drop(['category','Cat'], axis=1,inplace=True)"
   ]
  },
  {
   "cell_type": "code",
   "execution_count": 41,
   "metadata": {},
   "outputs": [
    {
     "name": "stderr",
     "output_type": "stream",
     "text": [
      "/Library/Frameworks/Python.framework/Versions/3.8/lib/python3.8/site-packages/pandas/core/frame.py:4167: SettingWithCopyWarning: \n",
      "A value is trying to be set on a copy of a slice from a DataFrame\n",
      "\n",
      "See the caveats in the documentation: https://pandas.pydata.org/pandas-docs/stable/user_guide/indexing.html#returning-a-view-versus-a-copy\n",
      "  return super().drop(\n"
     ]
    }
   ],
   "source": [
    "ip_missions.drop(['mission', 'Agency', 'Launch_Date', 'type'],axis=1, inplace=True)"
   ]
  },
  {
   "cell_type": "code",
   "execution_count": 43,
   "metadata": {},
   "outputs": [
    {
     "data": {
      "text/plain": [
       "array(['NEO', 'Venus', 'Mercury', 'Saturn', 'Main Belt', 'x', 'Europa',\n",
       "       'Jupiter', 'Comet', 'Moon', 'Titan', 'Mars', 'Kuiper belt', 'Sun'],\n",
       "      dtype=object)"
      ]
     },
     "execution_count": 43,
     "metadata": {},
     "output_type": "execute_result"
    }
   ],
   "source": [
    "ip_missions['mission_taget'].unique()"
   ]
  },
  {
   "cell_type": "code",
   "execution_count": 44,
   "metadata": {},
   "outputs": [
    {
     "name": "stderr",
     "output_type": "stream",
     "text": [
      "/Library/Frameworks/Python.framework/Versions/3.8/lib/python3.8/site-packages/pandas/core/series.py:4575: SettingWithCopyWarning: \n",
      "A value is trying to be set on a copy of a slice from a DataFrame\n",
      "\n",
      "See the caveats in the documentation: https://pandas.pydata.org/pandas-docs/stable/user_guide/indexing.html#returning-a-view-versus-a-copy\n",
      "  return super().replace(\n"
     ]
    },
    {
     "data": {
      "text/plain": [
       "array(['Small_bodies', 'Planet', 'Giant_Planet'], dtype=object)"
      ]
     },
     "execution_count": 44,
     "metadata": {},
     "output_type": "execute_result"
    }
   ],
   "source": [
    "#These can also be made into categories (that we think can affect the price similarly as a group)\n",
    "#Small_bodies, Planet, Giant_Planet,\n",
    "m_target_convert ={'NEO':'Small_bodies', 'Venus':'Planet', 'Mercury':'Planet', 'Saturn':'Giant_Planet', \n",
    "                    'Main Belt':'Small_bodies', 'x':'Small_bodies', 'Europa':'Planet',\n",
    "                    'Jupiter':'Giant_Planet', 'Comet':'Small_bodies', 'Moon':'Planet', \n",
    "                    'Titan':'Planet', 'Mars':'Planet', 'Kuiper belt':'Planet', 'Sun':'Planet'}\n",
    "ip_missions['mission_taget'].replace(m_target_convert, inplace=True)\n",
    "ip_missions['mission_taget'].unique()"
   ]
  },
  {
   "cell_type": "code",
   "execution_count": 46,
   "metadata": {},
   "outputs": [
    {
     "name": "stderr",
     "output_type": "stream",
     "text": [
      "<ipython-input-46-584f8ba578cb>:4: SettingWithCopyWarning: \n",
      "A value is trying to be set on a copy of a slice from a DataFrame.\n",
      "Try using .loc[row_indexer,col_indexer] = value instead\n",
      "\n",
      "See the caveats in the documentation: https://pandas.pydata.org/pandas-docs/stable/user_guide/indexing.html#returning-a-view-versus-a-copy\n",
      "  ip_missions[tar] = ip_missions.mission_taget.str.contains(tar, regex=False).astype(int)\n"
     ]
    }
   ],
   "source": [
    "m_target = ['Small_bodies', 'Planet', 'Giant_Planet']\n",
    "\n",
    "for tar in m_target:\n",
    "    ip_missions[tar] = ip_missions.mission_taget.str.contains(tar, regex=False).astype(int)"
   ]
  },
  {
   "cell_type": "code",
   "execution_count": 48,
   "metadata": {},
   "outputs": [
    {
     "name": "stderr",
     "output_type": "stream",
     "text": [
      "/Library/Frameworks/Python.framework/Versions/3.8/lib/python3.8/site-packages/pandas/core/frame.py:4167: SettingWithCopyWarning: \n",
      "A value is trying to be set on a copy of a slice from a DataFrame\n",
      "\n",
      "See the caveats in the documentation: https://pandas.pydata.org/pandas-docs/stable/user_guide/indexing.html#returning-a-view-versus-a-copy\n",
      "  return super().drop(\n"
     ]
    }
   ],
   "source": [
    "ip_missions.drop('mission_taget', axis=1, inplace=True)"
   ]
  },
  {
   "cell_type": "code",
   "execution_count": 34,
   "metadata": {},
   "outputs": [
    {
     "data": {
      "text/html": [
       "<div>\n",
       "<style scoped>\n",
       "    .dataframe tbody tr th:only-of-type {\n",
       "        vertical-align: middle;\n",
       "    }\n",
       "\n",
       "    .dataframe tbody tr th {\n",
       "        vertical-align: top;\n",
       "    }\n",
       "\n",
       "    .dataframe thead th {\n",
       "        text-align: right;\n",
       "    }\n",
       "</style>\n",
       "<table border=\"1\" class=\"dataframe\">\n",
       "  <thead>\n",
       "    <tr style=\"text-align: right;\">\n",
       "      <th></th>\n",
       "      <th>Duration_Years</th>\n",
       "      <th>Instruments</th>\n",
       "      <th>Cost</th>\n",
       "      <th>Power_Watts</th>\n",
       "      <th>MaxDistance_toSun</th>\n",
       "      <th>WET</th>\n",
       "      <th>Dry_Mass</th>\n",
       "      <th>Orbiter</th>\n",
       "      <th>Lander</th>\n",
       "      <th>Flybyer</th>\n",
       "      <th>Probe</th>\n",
       "      <th>Other</th>\n",
       "    </tr>\n",
       "  </thead>\n",
       "  <tbody>\n",
       "    <tr>\n",
       "      <th>count</th>\n",
       "      <td>14.000000</td>\n",
       "      <td>37.000000</td>\n",
       "      <td>43.000000</td>\n",
       "      <td>26.000000</td>\n",
       "      <td>38.000000</td>\n",
       "      <td>35.000000</td>\n",
       "      <td>35.000000</td>\n",
       "      <td>43.000000</td>\n",
       "      <td>43.000000</td>\n",
       "      <td>43.000000</td>\n",
       "      <td>43.000000</td>\n",
       "      <td>43.0</td>\n",
       "    </tr>\n",
       "    <tr>\n",
       "      <th>mean</th>\n",
       "      <td>7.507143</td>\n",
       "      <td>7.486486</td>\n",
       "      <td>702.889464</td>\n",
       "      <td>1579.500000</td>\n",
       "      <td>3.102368</td>\n",
       "      <td>1670.496486</td>\n",
       "      <td>888.067914</td>\n",
       "      <td>0.465116</td>\n",
       "      <td>0.069767</td>\n",
       "      <td>0.162791</td>\n",
       "      <td>0.046512</td>\n",
       "      <td>0.0</td>\n",
       "    </tr>\n",
       "    <tr>\n",
       "      <th>std</th>\n",
       "      <td>5.425079</td>\n",
       "      <td>3.834215</td>\n",
       "      <td>791.541703</td>\n",
       "      <td>1991.768465</td>\n",
       "      <td>5.112922</td>\n",
       "      <td>1380.377908</td>\n",
       "      <td>639.479055</td>\n",
       "      <td>0.504685</td>\n",
       "      <td>0.257770</td>\n",
       "      <td>0.373544</td>\n",
       "      <td>0.213083</td>\n",
       "      <td>0.0</td>\n",
       "    </tr>\n",
       "    <tr>\n",
       "      <th>min</th>\n",
       "      <td>1.000000</td>\n",
       "      <td>1.000000</td>\n",
       "      <td>73.626570</td>\n",
       "      <td>196.000000</td>\n",
       "      <td>0.220000</td>\n",
       "      <td>260.000000</td>\n",
       "      <td>201.000000</td>\n",
       "      <td>0.000000</td>\n",
       "      <td>0.000000</td>\n",
       "      <td>0.000000</td>\n",
       "      <td>0.000000</td>\n",
       "      <td>0.0</td>\n",
       "    </tr>\n",
       "    <tr>\n",
       "      <th>25%</th>\n",
       "      <td>3.025000</td>\n",
       "      <td>5.000000</td>\n",
       "      <td>275.860015</td>\n",
       "      <td>612.500000</td>\n",
       "      <td>1.000000</td>\n",
       "      <td>612.140000</td>\n",
       "      <td>395.140000</td>\n",
       "      <td>0.000000</td>\n",
       "      <td>0.000000</td>\n",
       "      <td>0.000000</td>\n",
       "      <td>0.000000</td>\n",
       "      <td>0.0</td>\n",
       "    </tr>\n",
       "    <tr>\n",
       "      <th>50%</th>\n",
       "      <td>7.500000</td>\n",
       "      <td>7.000000</td>\n",
       "      <td>397.656171</td>\n",
       "      <td>940.000000</td>\n",
       "      <td>1.400000</td>\n",
       "      <td>1100.000000</td>\n",
       "      <td>698.775000</td>\n",
       "      <td>0.000000</td>\n",
       "      <td>0.000000</td>\n",
       "      <td>0.000000</td>\n",
       "      <td>0.000000</td>\n",
       "      <td>0.0</td>\n",
       "    </tr>\n",
       "    <tr>\n",
       "      <th>75%</th>\n",
       "      <td>10.750000</td>\n",
       "      <td>10.000000</td>\n",
       "      <td>766.741193</td>\n",
       "      <td>1962.000000</td>\n",
       "      <td>4.592500</td>\n",
       "      <td>2511.500000</td>\n",
       "      <td>1107.550000</td>\n",
       "      <td>1.000000</td>\n",
       "      <td>0.000000</td>\n",
       "      <td>0.000000</td>\n",
       "      <td>0.000000</td>\n",
       "      <td>0.0</td>\n",
       "    </tr>\n",
       "    <tr>\n",
       "      <th>max</th>\n",
       "      <td>20.000000</td>\n",
       "      <td>17.000000</td>\n",
       "      <td>3679.860612</td>\n",
       "      <td>10300.000000</td>\n",
       "      <td>30.000000</td>\n",
       "      <td>5632.000000</td>\n",
       "      <td>2687.000000</td>\n",
       "      <td>1.000000</td>\n",
       "      <td>1.000000</td>\n",
       "      <td>1.000000</td>\n",
       "      <td>1.000000</td>\n",
       "      <td>0.0</td>\n",
       "    </tr>\n",
       "  </tbody>\n",
       "</table>\n",
       "</div>"
      ],
      "text/plain": [
       "       Duration_Years  Instruments         Cost   Power_Watts  \\\n",
       "count       14.000000    37.000000    43.000000     26.000000   \n",
       "mean         7.507143     7.486486   702.889464   1579.500000   \n",
       "std          5.425079     3.834215   791.541703   1991.768465   \n",
       "min          1.000000     1.000000    73.626570    196.000000   \n",
       "25%          3.025000     5.000000   275.860015    612.500000   \n",
       "50%          7.500000     7.000000   397.656171    940.000000   \n",
       "75%         10.750000    10.000000   766.741193   1962.000000   \n",
       "max         20.000000    17.000000  3679.860612  10300.000000   \n",
       "\n",
       "       MaxDistance_toSun          WET     Dry_Mass    Orbiter     Lander  \\\n",
       "count          38.000000    35.000000    35.000000  43.000000  43.000000   \n",
       "mean            3.102368  1670.496486   888.067914   0.465116   0.069767   \n",
       "std             5.112922  1380.377908   639.479055   0.504685   0.257770   \n",
       "min             0.220000   260.000000   201.000000   0.000000   0.000000   \n",
       "25%             1.000000   612.140000   395.140000   0.000000   0.000000   \n",
       "50%             1.400000  1100.000000   698.775000   0.000000   0.000000   \n",
       "75%             4.592500  2511.500000  1107.550000   1.000000   0.000000   \n",
       "max            30.000000  5632.000000  2687.000000   1.000000   1.000000   \n",
       "\n",
       "         Flybyer      Probe  Other  \n",
       "count  43.000000  43.000000   43.0  \n",
       "mean    0.162791   0.046512    0.0  \n",
       "std     0.373544   0.213083    0.0  \n",
       "min     0.000000   0.000000    0.0  \n",
       "25%     0.000000   0.000000    0.0  \n",
       "50%     0.000000   0.000000    0.0  \n",
       "75%     0.000000   0.000000    0.0  \n",
       "max     1.000000   1.000000    0.0  "
      ]
     },
     "execution_count": 34,
     "metadata": {},
     "output_type": "execute_result"
    }
   ],
   "source": [
    "ip_missions.describe()"
   ]
  },
  {
   "cell_type": "code",
   "execution_count": 35,
   "metadata": {},
   "outputs": [
    {
     "data": {
      "image/png": "[encoded data removed]",
      "text/plain": [
       "<Figure size 864x576 with 1 Axes>"
      ]
     },
     "metadata": {},
     "output_type": "display_data"
    }
   ],
   "source": [
    "f, ax = plt.subplots(figsize=(12, 8))\n",
    "ax = sns.boxplot(data=ip_missions,whis=1.5,orient=\"h\",showmeans=True)\n",
    "\n",
    "#I see a few Outliers here, but :\n",
    "# for the case of Power: when looking deeper into the data, this mission has a big solar panel, and the power varies with the\n",
    "#distance to the sun. So, it is normal and should be let in the data. Let's see how the model does\n",
    "\n",
    "#for the rest, this seems ok"
   ]
  },
  {
   "cell_type": "code",
   "execution_count": 36,
   "metadata": {},
   "outputs": [
    {
     "data": {
      "text/plain": [
       "array([[<AxesSubplot:title={'center':'Duration_Years'}>,\n",
       "        <AxesSubplot:title={'center':'Instruments'}>,\n",
       "        <AxesSubplot:title={'center':'Cost'}>],\n",
       "       [<AxesSubplot:title={'center':'Power_Watts'}>,\n",
       "        <AxesSubplot:title={'center':'MaxDistance_toSun'}>,\n",
       "        <AxesSubplot:title={'center':'WET'}>],\n",
       "       [<AxesSubplot:title={'center':'Dry_Mass'}>,\n",
       "        <AxesSubplot:title={'center':'Orbiter'}>,\n",
       "        <AxesSubplot:title={'center':'Lander'}>],\n",
       "       [<AxesSubplot:title={'center':'Flybyer'}>,\n",
       "        <AxesSubplot:title={'center':'Probe'}>,\n",
       "        <AxesSubplot:title={'center':'Other'}>]], dtype=object)"
      ]
     },
     "execution_count": 36,
     "metadata": {},
     "output_type": "execute_result"
    },
    {
     "data": {
      "image/png": "[encoded data removed]",
      "text/plain": [
       "<Figure size 1080x864 with 12 Axes>"
      ]
     },
     "metadata": {},
     "output_type": "display_data"
    }
   ],
   "source": [
    "ip_missions.hist(figsize=(15,12))\n",
    "#I see here that the data is skewed, and scales are different so we will need to sca;e this!"
   ]
  },
  {
   "cell_type": "code",
   "execution_count": 37,
   "metadata": {},
   "outputs": [],
   "source": [
    "ipm_corr = ip_missions.corr()"
   ]
  },
  {
   "cell_type": "code",
   "execution_count": 45,
   "metadata": {},
   "outputs": [
    {
     "data": {
      "image/png": "[encoded data removed]",
      "text/plain": [
       "<Figure size 720x576 with 2 Axes>"
      ]
     },
     "metadata": {},
     "output_type": "display_data"
    }
   ],
   "source": [
    "mask = np.triu(np.ones_like(ipm_corr, dtype=bool))\n",
    "# Set up the matplotlib figure\n",
    "f, ax = plt.subplots(figsize=(10, 8))\n",
    "sns.heatmap(ipm_corr,mask=mask, cmap ='Spectral', annot=True)\n",
    "plt.show()\n",
    "\n",
    "#I see the following (stronger) correlations that could be influencing the cost:\n",
    "# WET : Launch Mass (includes fuel)\n",
    "# DRY MASS : without the fuel\n",
    "# DURATION in YEARS \n",
    "# INSTRUMENTS : Even if the correlation is not so strong, it will be included, for the sake of this ex."
   ]
  },
  {
   "cell_type": "code",
   "execution_count": 26,
   "metadata": {},
   "outputs": [
    {
     "data": {
      "text/plain": [
       "<AxesSubplot:xlabel='Instruments', ylabel='Cost'>"
      ]
     },
     "execution_count": 26,
     "metadata": {},
     "output_type": "execute_result"
    },
    {
     "data": {
      "image/png": "[encoded data removed]",
      "text/plain": [
       "<Figure size 1080x720 with 4 Axes>"
      ]
     },
     "metadata": {},
     "output_type": "display_data"
    }
   ],
   "source": [
    "sns.set_theme(color_codes=True)\n",
    "\n",
    "f, axes = plt.subplots(2, 2, figsize=(15, 10))\n",
    "sns.regplot(x=ip_missions['Dry_Mass'], y=ip_missions['Cost'], color=\"b\",ax=axes[0,0])\n",
    "sns.regplot(x=ip_missions['WET'], y=ip_missions['Cost'], color=\"m\",ax=axes[0,1])\n",
    "sns.regplot(x=ip_missions['Duration_Years'], y=ip_missions['Cost'], color=\"y\",ax=axes[1,0])\n",
    "sns.regplot(x=ip_missions['Instruments'], y=ip_missions['Cost'], color=\"r\",ax=axes[1,1])\n",
    "\n",
    "#for this model, I chose to do a logistic regression \n",
    "#The targuet will be the Cost at completion (CAC) This cost has already been converted to \n",
    "#economic conditions based on 2020's given data\n",
    "#this takes in consideration, the infaltion variance"
   ]
  },
  {
   "cell_type": "markdown",
   "metadata": {},
   "source": [
    "- SCALING THE FEATURES"
   ]
  },
  {
   "cell_type": "code",
   "execution_count": 40,
   "metadata": {},
   "outputs": [
    {
     "data": {
      "text/plain": [
       "Index(['mission', 'Agency', 'Launch_Date', 'type', 'Duration_Years',\n",
       "       'mission_taget', 'Instruments', 'Cost', 'Power_Watts',\n",
       "       'MaxDistance_toSun', 'WET', 'Dry_Mass', 'Orbiter', 'Lander', 'Flybyer',\n",
       "       'Probe', 'Other'],\n",
       "      dtype='object')"
      ]
     },
     "execution_count": 40,
     "metadata": {},
     "output_type": "execute_result"
    }
   ],
   "source": [
    "ip_missions.columns"
   ]
  },
  {
   "cell_type": "code",
   "execution_count": 49,
   "metadata": {},
   "outputs": [],
   "source": [
    "from sklearn.preprocessing import RobustScaler\n",
    "\n",
    "y = ip_missions['Cost']\n",
    "X = ip_missions.drop('Cost', axis=1)\n",
    "\n",
    "Robust_Scaler = RobustScaler()\n",
    "\n",
    "scaled_X = Robust_Scaler.fit_transform(X)\n"
   ]
  },
  {
   "cell_type": "code",
   "execution_count": 55,
   "metadata": {},
   "outputs": [
    {
     "data": {
      "text/plain": [
       "Duration_Years       29\n",
       "Instruments           6\n",
       "Cost                  0\n",
       "Power_Watts          17\n",
       "MaxDistance_toSun     5\n",
       "WET                   8\n",
       "Dry_Mass              8\n",
       "Orbiter               0\n",
       "Lander                0\n",
       "Flybyer               0\n",
       "Probe                 0\n",
       "Other                 0\n",
       "Small_bodies          0\n",
       "Planet                0\n",
       "Giant_Planet          0\n",
       "dtype: int64"
      ]
     },
     "execution_count": 55,
     "metadata": {},
     "output_type": "execute_result"
    }
   ],
   "source": [
    "ip_missions.isnull().sum()"
   ]
  },
  {
   "cell_type": "markdown",
   "metadata": {},
   "source": [
    "- SPLITTING THE DATA (TRAIN/TEST)"
   ]
  },
  {
   "cell_type": "code",
   "execution_count": 50,
   "metadata": {},
   "outputs": [],
   "source": [
    "from sklearn.model_selection import train_test_split\n",
    "\n",
    "\n",
    "X_train, X_test, y_train, y_test = train_test_split(X, y, test_size=0.20,random_state=42)"
   ]
  },
  {
   "cell_type": "markdown",
   "metadata": {},
   "source": [
    "- IMPORTING AND CHOSING THE MODEL TO APPLY\n",
    "(Linear Reg, SVM, RandomForest)"
   ]
  },
  {
   "cell_type": "code",
   "execution_count": null,
   "metadata": {},
   "outputs": [],
   "source": []
  },
  {
   "cell_type": "code",
   "execution_count": null,
   "metadata": {},
   "outputs": [],
   "source": []
  },
  {
   "cell_type": "code",
   "execution_count": null,
   "metadata": {},
   "outputs": [],
   "source": []
  },
  {
   "cell_type": "code",
   "execution_count": null,
   "metadata": {},
   "outputs": [],
   "source": []
  },
  {
   "cell_type": "code",
   "execution_count": null,
   "metadata": {},
   "outputs": [],
   "source": [
    "from sklearn.ensemble import RandomForestRegressor\n",
    "\n",
    "score_train=[]\n",
    "score_test=[]\n",
    "for i in range(2,12,2):\n",
    "    model = RandomForestRegressor(max_depth=i).fit(X_train, y_train)\n",
    "    #max depth cannot be 0\n",
    "    score_train.append(model.score(X_train,y_train))\n",
    "    score_test.append(model.score(X_test,y_test))\n",
    "    print(f'for max_depth: {i}\\nthe train scores are:\\n {score_train}\\nThe test scores are:\\n {score_test}')"
   ]
  },
  {
   "cell_type": "markdown",
   "metadata": {},
   "source": [
    "- CHECKING ACCURACY/PLOTTING"
   ]
  },
  {
   "cell_type": "code",
   "execution_count": null,
   "metadata": {},
   "outputs": [],
   "source": []
  },
  {
   "cell_type": "code",
   "execution_count": null,
   "metadata": {},
   "outputs": [],
   "source": []
  },
  {
   "cell_type": "code",
   "execution_count": null,
   "metadata": {},
   "outputs": [],
   "source": [
    "from sklearn.metrics import mean_squared_error\n",
    "y_pred=model.predict(X_test)\n",
    "mean_squared_error(y_test, y_pred)"
   ]
  },
  {
   "cell_type": "code",
   "execution_count": null,
   "metadata": {},
   "outputs": [],
   "source": []
  }
 ],
 "metadata": {
  "kernelspec": {
   "display_name": "Python 3",
   "language": "python",
   "name": "python3"
  },
  "language_info": {
   "codemirror_mode": {
    "name": "ipython",
    "version": 3
   },
   "file_extension": ".py",
   "mimetype": "text/x-python",
   "name": "python",
   "nbconvert_exporter": "python",
   "pygments_lexer": "ipython3",
   "version": "3.8.6"
  }
 },
 "nbformat": 4,
 "nbformat_minor": 4
}
