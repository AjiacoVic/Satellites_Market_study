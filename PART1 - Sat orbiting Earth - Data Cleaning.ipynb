{
 "cells": [
  {
   "cell_type": "markdown",
   "metadata": {},
   "source": [
    "# Evolution of satellites orbiting the Earth"
   ]
  },
  {
   "cell_type": "code",
   "execution_count": 23,
   "metadata": {},
   "outputs": [],
   "source": [
    "import pandas as pd\n",
    "import numpy as np\n",
    "import matplotlib.pyplot as plt\n",
    "import seaborn as sns\n",
    "%matplotlib inline"
   ]
  },
  {
   "cell_type": "markdown",
   "metadata": {},
   "source": [
    "## Database\n",
    "\n",
    "In this Database created and gathered by the union of scientists we have the specificatio of about 2800 satellites currently orbiting the earth.\n",
    "\n",
    "After cleanning the data, I would like to take a closer look of the evolution of these satellites per type of satellite and spot, if any, their trend\n",
    "\n",
    "NOTE: I had issues downoading the dataset directly from the website due to encoding.\n",
    "I finally could overcome this issue by ading a 'latin' encoding to it.\n"
   ]
  },
  {
   "cell_type": "code",
   "execution_count": 5,
   "metadata": {},
   "outputs": [
    {
     "name": "stderr",
     "output_type": "stream",
     "text": [
      "/usr/local/lib/python3.9/site-packages/IPython/core/interactiveshell.py:3146: DtypeWarning: Columns (28) have mixed types.Specify dtype option on import or set low_memory=False.\n",
      "  has_raised = await self.run_ast_nodes(code_ast.body, cell_name,\n"
     ]
    }
   ],
   "source": [
    "sat = pd.read_csv('/Users/ajiacovic/Downloads/UCS-Satellite-Database-8-1-2020.txt', sep='\\t', encoding='latin-1')\n"
   ]
  },
  {
   "cell_type": "code",
   "execution_count": 6,
   "metadata": {},
   "outputs": [],
   "source": [
    "#Dropping added columns filled with NaN\n",
    "\n",
    "sat.drop(sat.columns[sat.columns.str.contains('Unnamed:',case = False)],axis = 1, inplace = True)"
   ]
  },
  {
   "cell_type": "code",
   "execution_count": 7,
   "metadata": {},
   "outputs": [],
   "source": [
    "# I notice that the database has also 3 corrupted lines at the end. I will be dropping these as well:\n",
    "\n",
    "sat.drop(sat.tail(3).index,inplace=True)"
   ]
  },
  {
   "cell_type": "code",
   "execution_count": 9,
   "metadata": {},
   "outputs": [
    {
     "data": {
      "text/html": [
       "<div>\n",
       "<style scoped>\n",
       "    .dataframe tbody tr th:only-of-type {\n",
       "        vertical-align: middle;\n",
       "    }\n",
       "\n",
       "    .dataframe tbody tr th {\n",
       "        vertical-align: top;\n",
       "    }\n",
       "\n",
       "    .dataframe thead th {\n",
       "        text-align: right;\n",
       "    }\n",
       "</style>\n",
       "<table border=\"1\" class=\"dataframe\">\n",
       "  <thead>\n",
       "    <tr style=\"text-align: right;\">\n",
       "      <th></th>\n",
       "      <th>Name of Satellite, Alternate Names</th>\n",
       "      <th>Current Official Name of Satellite</th>\n",
       "      <th>Country/Org of UN Registry</th>\n",
       "      <th>Country of Operator/Owner</th>\n",
       "      <th>Operator/Owner</th>\n",
       "      <th>Users</th>\n",
       "      <th>Purpose</th>\n",
       "      <th>Detailed Purpose</th>\n",
       "      <th>Class of Orbit</th>\n",
       "      <th>Type of Orbit</th>\n",
       "      <th>...</th>\n",
       "      <th>COSPAR Number</th>\n",
       "      <th>NORAD Number</th>\n",
       "      <th>Comments</th>\n",
       "      <th>Source Used for Orbital Data</th>\n",
       "      <th>Source</th>\n",
       "      <th>Source.1</th>\n",
       "      <th>Source.2</th>\n",
       "      <th>Source.3</th>\n",
       "      <th>Source.4</th>\n",
       "      <th>Source.5</th>\n",
       "    </tr>\n",
       "  </thead>\n",
       "  <tbody>\n",
       "    <tr>\n",
       "      <th>2783</th>\n",
       "      <td>Ziyuan 1-2D</td>\n",
       "      <td>Ziyuan 1-2D</td>\n",
       "      <td>NR (11/19)</td>\n",
       "      <td>China</td>\n",
       "      <td>China Centre for Resources Satellite Data and ...</td>\n",
       "      <td>Government</td>\n",
       "      <td>Earth Observation</td>\n",
       "      <td>NaN</td>\n",
       "      <td>LEO</td>\n",
       "      <td>Sun-Synchronous</td>\n",
       "      <td>...</td>\n",
       "      <td>2019-059A</td>\n",
       "      <td>44528.0</td>\n",
       "      <td>Hyperspectral imaging</td>\n",
       "      <td>JMSatcat/11_19</td>\n",
       "      <td>https://spaceflightnow.com/2019/09/12/china-la...</td>\n",
       "      <td>http://www.planet4589.org/space/log/satcat.txt</td>\n",
       "      <td>NaN</td>\n",
       "      <td>NaN</td>\n",
       "      <td>NaN</td>\n",
       "      <td>NaN</td>\n",
       "    </tr>\n",
       "    <tr>\n",
       "      <th>2784</th>\n",
       "      <td>Ziyuan 3 (ZY-3)</td>\n",
       "      <td>Ziyuan 3</td>\n",
       "      <td>China</td>\n",
       "      <td>China</td>\n",
       "      <td>China Centre for Resources Satellite Data and ...</td>\n",
       "      <td>Government</td>\n",
       "      <td>Earth Observation</td>\n",
       "      <td>NaN</td>\n",
       "      <td>LEO</td>\n",
       "      <td>Sun-Synchronous</td>\n",
       "      <td>...</td>\n",
       "      <td>2012-001A</td>\n",
       "      <td>38046.0</td>\n",
       "      <td>Land survey satellite.</td>\n",
       "      <td>www.spacedebris.net 12/12</td>\n",
       "      <td>http://www.spaceflightnow.com/news/n1201/09lon...</td>\n",
       "      <td>https://spacenews.com/china-launches-five-comm...</td>\n",
       "      <td>NaN</td>\n",
       "      <td>NaN</td>\n",
       "      <td>NaN</td>\n",
       "      <td>NaN</td>\n",
       "    </tr>\n",
       "    <tr>\n",
       "      <th>2785</th>\n",
       "      <td>Ziyuan 3-2</td>\n",
       "      <td>Ziyuan 3-2</td>\n",
       "      <td>China</td>\n",
       "      <td>China</td>\n",
       "      <td>China Centre for Resources Satellite Data and ...</td>\n",
       "      <td>Government</td>\n",
       "      <td>Earth Observation</td>\n",
       "      <td>NaN</td>\n",
       "      <td>LEO</td>\n",
       "      <td>Sun-Synchronous</td>\n",
       "      <td>...</td>\n",
       "      <td>2016-033A</td>\n",
       "      <td>41556.0</td>\n",
       "      <td>Thought to be for intelligence gathering.</td>\n",
       "      <td>Space50</td>\n",
       "      <td>http://spaceflightnow.com/2016/05/31/long-marc...</td>\n",
       "      <td>https://www.planet4589.org/space/log/satcat.txt</td>\n",
       "      <td>http://space50.org/objekt.php?mot=2016-033A&amp;ja...</td>\n",
       "      <td>NaN</td>\n",
       "      <td>NaN</td>\n",
       "      <td>NaN</td>\n",
       "    </tr>\n",
       "    <tr>\n",
       "      <th>2786</th>\n",
       "      <td>Ziyuan 3-3</td>\n",
       "      <td>Ziyuan 3-3</td>\n",
       "      <td>NR (7/20)</td>\n",
       "      <td>China</td>\n",
       "      <td>China Centre for Resources Satellite Data and ...</td>\n",
       "      <td>Government</td>\n",
       "      <td>Earth Observation</td>\n",
       "      <td>NaN</td>\n",
       "      <td>LEO</td>\n",
       "      <td>Sun-Synchronous</td>\n",
       "      <td>...</td>\n",
       "      <td>2020-051A</td>\n",
       "      <td>45939.0</td>\n",
       "      <td>Land survey satellite. Provide data for the co...</td>\n",
       "      <td>ZARYA</td>\n",
       "      <td>https://spaceflightnow.com/2020/07/25/china-la...</td>\n",
       "      <td>http://www.lib.cas.cz/space.40/2011/079A.HTM</td>\n",
       "      <td>NaN</td>\n",
       "      <td>NaN</td>\n",
       "      <td>NaN</td>\n",
       "      <td>NaN</td>\n",
       "    </tr>\n",
       "  </tbody>\n",
       "</table>\n",
       "<p>4 rows × 35 columns</p>\n",
       "</div>"
      ],
      "text/plain": [
       "     Name of Satellite, Alternate Names Current Official Name of Satellite  \\\n",
       "2783                        Ziyuan 1-2D                        Ziyuan 1-2D   \n",
       "2784                    Ziyuan 3 (ZY-3)                           Ziyuan 3   \n",
       "2785                         Ziyuan 3-2                         Ziyuan 3-2   \n",
       "2786                         Ziyuan 3-3                         Ziyuan 3-3   \n",
       "\n",
       "     Country/Org of UN Registry Country of Operator/Owner  \\\n",
       "2783                 NR (11/19)                     China   \n",
       "2784                      China                     China   \n",
       "2785                      China                     China   \n",
       "2786                  NR (7/20)                     China   \n",
       "\n",
       "                                         Operator/Owner       Users  \\\n",
       "2783  China Centre for Resources Satellite Data and ...  Government   \n",
       "2784  China Centre for Resources Satellite Data and ...  Government   \n",
       "2785  China Centre for Resources Satellite Data and ...  Government   \n",
       "2786  China Centre for Resources Satellite Data and ...  Government   \n",
       "\n",
       "                Purpose Detailed Purpose Class of Orbit    Type of Orbit  ...  \\\n",
       "2783  Earth Observation              NaN            LEO  Sun-Synchronous  ...   \n",
       "2784  Earth Observation              NaN            LEO  Sun-Synchronous  ...   \n",
       "2785  Earth Observation              NaN            LEO  Sun-Synchronous  ...   \n",
       "2786  Earth Observation              NaN            LEO  Sun-Synchronous  ...   \n",
       "\n",
       "      COSPAR Number NORAD Number  \\\n",
       "2783      2019-059A      44528.0   \n",
       "2784      2012-001A      38046.0   \n",
       "2785      2016-033A      41556.0   \n",
       "2786      2020-051A      45939.0   \n",
       "\n",
       "                                               Comments  \\\n",
       "2783                              Hyperspectral imaging   \n",
       "2784                             Land survey satellite.   \n",
       "2785          Thought to be for intelligence gathering.   \n",
       "2786  Land survey satellite. Provide data for the co...   \n",
       "\n",
       "      Source Used for Orbital Data  \\\n",
       "2783                JMSatcat/11_19   \n",
       "2784     www.spacedebris.net 12/12   \n",
       "2785                       Space50   \n",
       "2786                         ZARYA   \n",
       "\n",
       "                                                 Source  \\\n",
       "2783  https://spaceflightnow.com/2019/09/12/china-la...   \n",
       "2784  http://www.spaceflightnow.com/news/n1201/09lon...   \n",
       "2785  http://spaceflightnow.com/2016/05/31/long-marc...   \n",
       "2786  https://spaceflightnow.com/2020/07/25/china-la...   \n",
       "\n",
       "                                               Source.1  \\\n",
       "2783     http://www.planet4589.org/space/log/satcat.txt   \n",
       "2784  https://spacenews.com/china-launches-five-comm...   \n",
       "2785    https://www.planet4589.org/space/log/satcat.txt   \n",
       "2786       http://www.lib.cas.cz/space.40/2011/079A.HTM   \n",
       "\n",
       "                                               Source.2 Source.3 Source.4  \\\n",
       "2783                                                NaN      NaN      NaN   \n",
       "2784                                                NaN      NaN      NaN   \n",
       "2785  http://space50.org/objekt.php?mot=2016-033A&ja...      NaN      NaN   \n",
       "2786                                                NaN      NaN      NaN   \n",
       "\n",
       "     Source.5  \n",
       "2783      NaN  \n",
       "2784      NaN  \n",
       "2785      NaN  \n",
       "2786      NaN  \n",
       "\n",
       "[4 rows x 35 columns]"
      ]
     },
     "execution_count": 9,
     "metadata": {},
     "output_type": "execute_result"
    }
   ],
   "source": [
    "sat.head()\n",
    "sat.tail(4)"
   ]
  },
  {
   "cell_type": "code",
   "execution_count": 10,
   "metadata": {},
   "outputs": [
    {
     "name": "stdout",
     "output_type": "stream",
     "text": [
      "<class 'pandas.core.frame.DataFrame'>\n",
      "Int64Index: 2787 entries, 0 to 2786\n",
      "Data columns (total 35 columns):\n",
      " #   Column                              Non-Null Count  Dtype  \n",
      "---  ------                              --------------  -----  \n",
      " 0   Name of Satellite, Alternate Names  2787 non-null   object \n",
      " 1   Current Official Name of Satellite  2787 non-null   object \n",
      " 2   Country/Org of UN Registry          2787 non-null   object \n",
      " 3   Country of Operator/Owner           2787 non-null   object \n",
      " 4   Operator/Owner                      2787 non-null   object \n",
      " 5   Users                               2787 non-null   object \n",
      " 6   Purpose                             2787 non-null   object \n",
      " 7   Detailed Purpose                    797 non-null    object \n",
      " 8   Class of Orbit                      2787 non-null   object \n",
      " 9   Type of Orbit                       2162 non-null   object \n",
      " 10  Longitude of GEO (degrees)          2787 non-null   float64\n",
      " 11  Perigee (km)                        2787 non-null   object \n",
      " 12  Apogee (km)                         2787 non-null   object \n",
      " 13  Eccentricity                        2787 non-null   float64\n",
      " 14  Inclination (degrees)               2787 non-null   float64\n",
      " 15  Period (minutes)                    2787 non-null   object \n",
      " 16  Launch Mass (kg.)                   2580 non-null   object \n",
      " 17  Dry Mass (kg.)                      443 non-null    object \n",
      " 18  Power (watts)                       603 non-null    object \n",
      " 19  Date of Launch                      2787 non-null   object \n",
      " 20  Expected Lifetime (yrs.)            1148 non-null   float64\n",
      " 21  Contractor                          2787 non-null   object \n",
      " 22  Country of Contractor               2787 non-null   object \n",
      " 23  Launch Site                         2787 non-null   object \n",
      " 24  Launch Vehicle                      2787 non-null   object \n",
      " 25  COSPAR Number                       2787 non-null   object \n",
      " 26  NORAD Number                        2787 non-null   float64\n",
      " 27  Comments                            1412 non-null   object \n",
      " 28  Source Used for Orbital Data        2580 non-null   object \n",
      " 29  Source                              2299 non-null   object \n",
      " 30  Source.1                            1539 non-null   object \n",
      " 31  Source.2                            726 non-null    object \n",
      " 32  Source.3                            279 non-null    object \n",
      " 33  Source.4                            83 non-null     object \n",
      " 34  Source.5                            18 non-null     object \n",
      "dtypes: float64(5), object(30)\n",
      "memory usage: 783.8+ KB\n"
     ]
    }
   ],
   "source": [
    "#Let's now get acquainted with the dataset:\n",
    "sat.info()\n",
    "\n",
    "#From this I see there are some missing data on some of the specs I would like to analyse. \n",
    "#Need ot look further into that\n",
    "#Sources don't seem to be relevant for the purpose of this analysis"
   ]
  },
  {
   "cell_type": "code",
   "execution_count": 17,
   "metadata": {},
   "outputs": [],
   "source": [
    "sat.drop(sat.columns[sat.columns.str.contains('Source',case = False)],axis = 1, inplace = True)"
   ]
  },
  {
   "cell_type": "code",
   "execution_count": 21,
   "metadata": {},
   "outputs": [
    {
     "data": {
      "text/plain": [
       "Dry Mass (kg.)              2344\n",
       "Power (watts)               2184\n",
       "Detailed Purpose            1990\n",
       "Expected Lifetime (yrs.)    1639\n",
       "Comments                    1375\n",
       "Type of Orbit                625\n",
       "Launch Mass (kg.)            207\n",
       "dtype: int64"
      ]
     },
     "execution_count": 21,
     "metadata": {},
     "output_type": "execute_result"
    }
   ],
   "source": [
    "missing_values = sat.isnull().sum().sort_values(ascending=False)\n",
    "missing_values[:7] #the columns with missing values\n",
    "\n",
    "#To look into following relevant columns with high missing values:\n",
    "\n",
    "#Dry Mass(vs. LaunchMass)\n",
    "#Launch Mass (less missing values)\n",
    "#Power \n",
    "#Expected lifetime, \n",
    "#Type of Orbit (vs.Class of Orbit)\n"
   ]
  },
  {
   "cell_type": "code",
   "execution_count": 27,
   "metadata": {},
   "outputs": [],
   "source": [
    "#Let's plot this data \n",
    "# sns.pairplot(data= sat)"
   ]
  },
  {
   "cell_type": "code",
   "execution_count": 81,
   "metadata": {},
   "outputs": [],
   "source": [
    "#Type of Orbits\n",
    "# print(sat['Type of Orbit'].value_counts())\n",
    "# sat['Type of Orbit'].hist(figsize=(15,12))\n",
    "#3 major types (counting polar) I believe class of orbit represents better "
   ]
  },
  {
   "cell_type": "code",
   "execution_count": 80,
   "metadata": {},
   "outputs": [
    {
     "name": "stdout",
     "output_type": "stream",
     "text": [
      "LEO           2032\n",
      "GEO            560\n",
      "MEO            137\n",
      "Elliptical      58\n",
      "Name: Class of Orbit, dtype: int64\n"
     ]
    },
    {
     "data": {
      "text/plain": [
       "<AxesSubplot:>"
      ]
     },
     "execution_count": 80,
     "metadata": {},
     "output_type": "execute_result"
    },
    {
     "data": {
      "image/png": "[encoded data removed]",
      "text/plain": [
       "<Figure size 864x720 with 1 Axes>"
      ]
     },
     "metadata": {
      "needs_background": "light"
     },
     "output_type": "display_data"
    }
   ],
   "source": [
    "#Class of Orbit\n",
    "print(sat['Class of Orbit'].value_counts())\n",
    "sat['Class of Orbit'].hist(figsize=(12,10))\n",
    "\n",
    "#LEO: Low Eliptic Orbit"
   ]
  },
  {
   "cell_type": "code",
   "execution_count": 89,
   "metadata": {},
   "outputs": [
    {
     "data": {
      "text/plain": [
       "<AxesSubplot:xlabel='Country of Operator/Owner'>"
      ]
     },
     "execution_count": 89,
     "metadata": {},
     "output_type": "execute_result"
    },
    {
     "data": {
      "image/png": "[encoded data removed]",
      "text/plain": [
       "<Figure size 1080x864 with 1 Axes>"
      ]
     },
     "metadata": {
      "needs_background": "light"
     },
     "output_type": "display_data"
    }
   ],
   "source": [
    "#per Country\n",
    "\n",
    "sats_country = sat.groupby(['Country of Operator/Owner'])['Name of Satellite, Alternate Names'].agg('count').sort_values(ascending=False)[:10]\n",
    "sats_country.plot.bar(figsize=(15,12), color = 'olive')\n",
    "\n",
    "#Note:\n",
    "#The home country identified with the operator/owner given in column D, i.e., the country that operates \n",
    "#or owns the satellite or the home country of the business entity that does so. If this includes three \n",
    "#or fewer countries, each is listed; otherwise the project is simply designated as Multinational. \n",
    "#An exception to this is projects of the European Space Agency (ESA), which represent the joint efforts \n",
    "#of its 15 member states and are designated as ESA."
   ]
  },
  {
   "cell_type": "code",
   "execution_count": 97,
   "metadata": {},
   "outputs": [
    {
     "data": {
      "text/plain": [
       "<AxesSubplot:xlabel='Country of Operator/Owner,Class of Orbit'>"
      ]
     },
     "execution_count": 97,
     "metadata": {},
     "output_type": "execute_result"
    },
    {
     "data": {
      "image/png": "[encoded data removed]",
      "text/plain": [
       "<Figure size 1080x864 with 1 Axes>"
      ]
     },
     "metadata": {
      "needs_background": "light"
     },
     "output_type": "display_data"
    }
   ],
   "source": [
    "sats_country = sat.groupby(['Country of Operator/Owner','Class of Orbit'])['Name of Satellite, Alternate Names'].agg('count').sort_values(ascending=False)[:30]\n",
    "sats_country.plot.bar(figsize=(15,12), color = 'y')"
   ]
  },
  {
   "cell_type": "code",
   "execution_count": 107,
   "metadata": {},
   "outputs": [
    {
     "data": {
      "text/plain": [
       "Country of Operator/Owner  Users                \n",
       "USA                        Commercial               998\n",
       "                           Military                 169\n",
       "China                      Government               139\n",
       "United Kingdom             Commercial               120\n",
       "China                      Commercial                93\n",
       "USA                        Government/Commercial     81\n",
       "Russia                     Military                  72\n",
       "USA                        Government                66\n",
       "China                      Military                  62\n",
       "                           Military/Government       52\n",
       "India                      Government                45\n",
       "Multinational              Commercial                42\n",
       "Japan                      Government                33\n",
       "USA                        Military/Commercial       33\n",
       "Russia                     Military/Commercial       32\n",
       "USA                        Civil                     31\n",
       "Luxembourg                 Commercial                30\n",
       "ESA                        Commercial                27\n",
       "                           Government                25\n",
       "Canada                     Commercial                25\n",
       "Japan                      Commercial                24\n",
       "China                      Civil                     23\n",
       "Russia                     Commercial                19\n",
       "                           Government/Commercial     18\n",
       "Japan                      Civil                     18\n",
       "USA                        Government/Civil          16\n",
       "Russia                     Government                15\n",
       "Argentina                  Commercial                14\n",
       "Multinational              Government                12\n",
       "Germany                    Civil                     11\n",
       "Name: Name of Satellite, Alternate Names, dtype: int64"
      ]
     },
     "execution_count": 107,
     "metadata": {},
     "output_type": "execute_result"
    }
   ],
   "source": [
    "#per users\n",
    "\n",
    "sats_users = sat.groupby(['Country of Operator/Owner','Users'])['Name of Satellite, Alternate Names'].agg('count').sort_values(ascending=False)[:30]\n",
    "sats_users\n",
    "#The affiliation of the primary users of the satellite is described with one or more of the keywords: civil (academic, amateur), commercial, \n",
    "#government (meteorological, scientific, etc.), military. Satellites can be multi-use, hosting, for example, dedicated transponders for both \n",
    "#commercial and military applications."
   ]
  },
  {
   "cell_type": "code",
   "execution_count": null,
   "metadata": {},
   "outputs": [],
   "source": [
    "#per launch\n"
   ]
  }
 ],
 "metadata": {
  "kernelspec": {
   "display_name": "Python 3",
   "language": "python",
   "name": "python3"
  },
  "language_info": {
   "codemirror_mode": {
    "name": "ipython",
    "version": 3
   },
   "file_extension": ".py",
   "mimetype": "text/x-python",
   "name": "python",
   "nbconvert_exporter": "python",
   "pygments_lexer": "ipython3",
   "version": "3.9.0"
  }
 },
 "nbformat": 4,
 "nbformat_minor": 4
}
